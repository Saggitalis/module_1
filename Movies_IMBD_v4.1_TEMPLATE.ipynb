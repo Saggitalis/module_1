{
 "cells": [
  {
   "cell_type": "code",
   "execution_count": 1,
   "metadata": {
    "_cell_guid": "b1076dfc-b9ad-4769-8c92-a6c4dae69d19",
    "_uuid": "8f2839f25d086af736a60e9eeb907d3b93b6e0e5",
    "colab": {},
    "colab_type": "code",
    "id": "U2D2gTdJVp90"
   },
   "outputs": [],
   "source": [
    "import numpy as np\n",
    "import pandas as pd\n",
    "import seaborn as sns\n",
    "import matplotlib.pyplot as plt\n",
    "from collections import Counter\n",
    "from datetime import datetime, date, timedelta"
   ]
  },
  {
   "cell_type": "code",
   "execution_count": 2,
   "metadata": {
    "_cell_guid": "79c7e3d0-c299-4dcb-8224-4455121ee9b0",
    "_uuid": "d629ff2d2480ee46fbb7e2d37f6b5fab8052498a",
    "colab": {},
    "colab_type": "code",
    "id": "oyGfxL3eVp9-"
   },
   "outputs": [
    {
     "data": {
      "text/html": [
       "<div>\n",
       "<style scoped>\n",
       "    .dataframe tbody tr th:only-of-type {\n",
       "        vertical-align: middle;\n",
       "    }\n",
       "\n",
       "    .dataframe tbody tr th {\n",
       "        vertical-align: top;\n",
       "    }\n",
       "\n",
       "    .dataframe thead th {\n",
       "        text-align: right;\n",
       "    }\n",
       "</style>\n",
       "<table border=\"1\" class=\"dataframe\">\n",
       "  <thead>\n",
       "    <tr style=\"text-align: right;\">\n",
       "      <th></th>\n",
       "      <th>imdb_id</th>\n",
       "      <th>budget</th>\n",
       "      <th>revenue</th>\n",
       "      <th>original_title</th>\n",
       "      <th>cast</th>\n",
       "      <th>director</th>\n",
       "      <th>tagline</th>\n",
       "      <th>overview</th>\n",
       "      <th>runtime</th>\n",
       "      <th>genres</th>\n",
       "      <th>production_companies</th>\n",
       "      <th>release_date</th>\n",
       "      <th>vote_average</th>\n",
       "      <th>release_year</th>\n",
       "    </tr>\n",
       "  </thead>\n",
       "  <tbody>\n",
       "    <tr>\n",
       "      <th>656</th>\n",
       "      <td>tt0430922</td>\n",
       "      <td>28000000</td>\n",
       "      <td>92380927</td>\n",
       "      <td>Role Models</td>\n",
       "      <td>Seann William Scott|Paul Rudd|Elizabeth Banks|...</td>\n",
       "      <td>David Wain</td>\n",
       "      <td>They're about to get more than they plea-barga...</td>\n",
       "      <td>Two salesmen trash a company truck on an energ...</td>\n",
       "      <td>99</td>\n",
       "      <td>Comedy</td>\n",
       "      <td>Universal Pictures|Internationale Filmprodukti...</td>\n",
       "      <td>2/3/2008</td>\n",
       "      <td>6.3</td>\n",
       "      <td>2008</td>\n",
       "    </tr>\n",
       "    <tr>\n",
       "      <th>1532</th>\n",
       "      <td>tt0450232</td>\n",
       "      <td>55000000</td>\n",
       "      <td>65664721</td>\n",
       "      <td>16 Blocks</td>\n",
       "      <td>Bruce Willis|Mos Def|David Morse|Jenna Stern|D...</td>\n",
       "      <td>Richard Donner</td>\n",
       "      <td>For a New York cop and his witness, the distan...</td>\n",
       "      <td>An aging cop is assigned the ordinary task of ...</td>\n",
       "      <td>105</td>\n",
       "      <td>Action|Adventure|Crime|Thriller</td>\n",
       "      <td>Donners' Company|Cheyenne Enterprises|Alcon En...</td>\n",
       "      <td>3/1/2006</td>\n",
       "      <td>6.1</td>\n",
       "      <td>2006</td>\n",
       "    </tr>\n",
       "    <tr>\n",
       "      <th>299</th>\n",
       "      <td>tt1139668</td>\n",
       "      <td>16000000</td>\n",
       "      <td>76514050</td>\n",
       "      <td>The Unborn</td>\n",
       "      <td>Odette Annable|Gary Oldman|Meagan Good|Cam Gig...</td>\n",
       "      <td>David S. Goyer</td>\n",
       "      <td>Evil will do anything to live.</td>\n",
       "      <td>A young woman fights the spirit that is slowly...</td>\n",
       "      <td>87</td>\n",
       "      <td>Horror|Thriller|Mystery</td>\n",
       "      <td>Rogue Pictures|Phantom Four|Platinum Dunes|Rel...</td>\n",
       "      <td>1/9/2009</td>\n",
       "      <td>4.9</td>\n",
       "      <td>2009</td>\n",
       "    </tr>\n",
       "    <tr>\n",
       "      <th>483</th>\n",
       "      <td>tt1456941</td>\n",
       "      <td>27000000</td>\n",
       "      <td>16504936</td>\n",
       "      <td>Tomorrow, When the War Began</td>\n",
       "      <td>Caitlin Stasey|Rachel Hurd-Wood|Phoebe Tonkin|...</td>\n",
       "      <td>Stuart Beattie</td>\n",
       "      <td>Where were you when everything changed?</td>\n",
       "      <td>Ellie Linton, a teen from an Australian coasta...</td>\n",
       "      <td>103</td>\n",
       "      <td>Action|Adventure|Drama</td>\n",
       "      <td>Omnilab Media|Ambience Entertainment</td>\n",
       "      <td>8/8/2010</td>\n",
       "      <td>6.5</td>\n",
       "      <td>2010</td>\n",
       "    </tr>\n",
       "    <tr>\n",
       "      <th>1635</th>\n",
       "      <td>tt0335438</td>\n",
       "      <td>60000000</td>\n",
       "      <td>170268750</td>\n",
       "      <td>Starsky &amp; Hutch</td>\n",
       "      <td>Ben Stiller|Owen Wilson|Snoop Dogg|Fred Willia...</td>\n",
       "      <td>Todd Phillips</td>\n",
       "      <td>They're the man.</td>\n",
       "      <td>Join uptight David Starsky and laid-back Ken \"...</td>\n",
       "      <td>101</td>\n",
       "      <td>Comedy|Crime</td>\n",
       "      <td>Weed Road Pictures|Warner Bros.|Dimension Film...</td>\n",
       "      <td>3/5/2004</td>\n",
       "      <td>5.5</td>\n",
       "      <td>2004</td>\n",
       "    </tr>\n",
       "  </tbody>\n",
       "</table>\n",
       "</div>"
      ],
      "text/plain": [
       "        imdb_id    budget    revenue                original_title  \\\n",
       "656   tt0430922  28000000   92380927                   Role Models   \n",
       "1532  tt0450232  55000000   65664721                     16 Blocks   \n",
       "299   tt1139668  16000000   76514050                    The Unborn   \n",
       "483   tt1456941  27000000   16504936  Tomorrow, When the War Began   \n",
       "1635  tt0335438  60000000  170268750               Starsky & Hutch   \n",
       "\n",
       "                                                   cast        director  \\\n",
       "656   Seann William Scott|Paul Rudd|Elizabeth Banks|...      David Wain   \n",
       "1532  Bruce Willis|Mos Def|David Morse|Jenna Stern|D...  Richard Donner   \n",
       "299   Odette Annable|Gary Oldman|Meagan Good|Cam Gig...  David S. Goyer   \n",
       "483   Caitlin Stasey|Rachel Hurd-Wood|Phoebe Tonkin|...  Stuart Beattie   \n",
       "1635  Ben Stiller|Owen Wilson|Snoop Dogg|Fred Willia...   Todd Phillips   \n",
       "\n",
       "                                                tagline  \\\n",
       "656   They're about to get more than they plea-barga...   \n",
       "1532  For a New York cop and his witness, the distan...   \n",
       "299                      Evil will do anything to live.   \n",
       "483             Where were you when everything changed?   \n",
       "1635                                   They're the man.   \n",
       "\n",
       "                                               overview  runtime  \\\n",
       "656   Two salesmen trash a company truck on an energ...       99   \n",
       "1532  An aging cop is assigned the ordinary task of ...      105   \n",
       "299   A young woman fights the spirit that is slowly...       87   \n",
       "483   Ellie Linton, a teen from an Australian coasta...      103   \n",
       "1635  Join uptight David Starsky and laid-back Ken \"...      101   \n",
       "\n",
       "                               genres  \\\n",
       "656                            Comedy   \n",
       "1532  Action|Adventure|Crime|Thriller   \n",
       "299           Horror|Thriller|Mystery   \n",
       "483            Action|Adventure|Drama   \n",
       "1635                     Comedy|Crime   \n",
       "\n",
       "                                   production_companies release_date  \\\n",
       "656   Universal Pictures|Internationale Filmprodukti...     2/3/2008   \n",
       "1532  Donners' Company|Cheyenne Enterprises|Alcon En...     3/1/2006   \n",
       "299   Rogue Pictures|Phantom Four|Platinum Dunes|Rel...     1/9/2009   \n",
       "483                Omnilab Media|Ambience Entertainment     8/8/2010   \n",
       "1635  Weed Road Pictures|Warner Bros.|Dimension Film...     3/5/2004   \n",
       "\n",
       "      vote_average  release_year  \n",
       "656            6.3          2008  \n",
       "1532           6.1          2006  \n",
       "299            4.9          2009  \n",
       "483            6.5          2010  \n",
       "1635           5.5          2004  "
      ]
     },
     "execution_count": 2,
     "metadata": {},
     "output_type": "execute_result"
    }
   ],
   "source": [
    "data = pd.read_csv('movie_bd_v5.csv')\n",
    "data.sample(5)"
   ]
  },
  {
   "cell_type": "code",
   "execution_count": 3,
   "metadata": {
    "colab": {},
    "colab_type": "code",
    "id": "CoYUnagMVp-C"
   },
   "outputs": [
    {
     "data": {
      "text/html": [
       "<div>\n",
       "<style scoped>\n",
       "    .dataframe tbody tr th:only-of-type {\n",
       "        vertical-align: middle;\n",
       "    }\n",
       "\n",
       "    .dataframe tbody tr th {\n",
       "        vertical-align: top;\n",
       "    }\n",
       "\n",
       "    .dataframe thead th {\n",
       "        text-align: right;\n",
       "    }\n",
       "</style>\n",
       "<table border=\"1\" class=\"dataframe\">\n",
       "  <thead>\n",
       "    <tr style=\"text-align: right;\">\n",
       "      <th></th>\n",
       "      <th>budget</th>\n",
       "      <th>revenue</th>\n",
       "      <th>runtime</th>\n",
       "      <th>vote_average</th>\n",
       "      <th>release_year</th>\n",
       "    </tr>\n",
       "  </thead>\n",
       "  <tbody>\n",
       "    <tr>\n",
       "      <th>count</th>\n",
       "      <td>1.889000e+03</td>\n",
       "      <td>1.889000e+03</td>\n",
       "      <td>1889.000000</td>\n",
       "      <td>1889.000000</td>\n",
       "      <td>1889.000000</td>\n",
       "    </tr>\n",
       "    <tr>\n",
       "      <th>mean</th>\n",
       "      <td>5.431083e+07</td>\n",
       "      <td>1.553653e+08</td>\n",
       "      <td>109.658549</td>\n",
       "      <td>6.140762</td>\n",
       "      <td>2007.860773</td>\n",
       "    </tr>\n",
       "    <tr>\n",
       "      <th>std</th>\n",
       "      <td>4.858721e+07</td>\n",
       "      <td>2.146698e+08</td>\n",
       "      <td>18.017041</td>\n",
       "      <td>0.764763</td>\n",
       "      <td>4.468841</td>\n",
       "    </tr>\n",
       "    <tr>\n",
       "      <th>min</th>\n",
       "      <td>5.000000e+06</td>\n",
       "      <td>2.033165e+06</td>\n",
       "      <td>63.000000</td>\n",
       "      <td>3.300000</td>\n",
       "      <td>2000.000000</td>\n",
       "    </tr>\n",
       "    <tr>\n",
       "      <th>25%</th>\n",
       "      <td>2.000000e+07</td>\n",
       "      <td>3.456058e+07</td>\n",
       "      <td>97.000000</td>\n",
       "      <td>5.600000</td>\n",
       "      <td>2004.000000</td>\n",
       "    </tr>\n",
       "    <tr>\n",
       "      <th>50%</th>\n",
       "      <td>3.800000e+07</td>\n",
       "      <td>8.361541e+07</td>\n",
       "      <td>107.000000</td>\n",
       "      <td>6.100000</td>\n",
       "      <td>2008.000000</td>\n",
       "    </tr>\n",
       "    <tr>\n",
       "      <th>75%</th>\n",
       "      <td>7.200000e+07</td>\n",
       "      <td>1.782626e+08</td>\n",
       "      <td>120.000000</td>\n",
       "      <td>6.600000</td>\n",
       "      <td>2012.000000</td>\n",
       "    </tr>\n",
       "    <tr>\n",
       "      <th>max</th>\n",
       "      <td>3.800000e+08</td>\n",
       "      <td>2.781506e+09</td>\n",
       "      <td>214.000000</td>\n",
       "      <td>8.100000</td>\n",
       "      <td>2015.000000</td>\n",
       "    </tr>\n",
       "  </tbody>\n",
       "</table>\n",
       "</div>"
      ],
      "text/plain": [
       "             budget       revenue      runtime  vote_average  release_year\n",
       "count  1.889000e+03  1.889000e+03  1889.000000   1889.000000   1889.000000\n",
       "mean   5.431083e+07  1.553653e+08   109.658549      6.140762   2007.860773\n",
       "std    4.858721e+07  2.146698e+08    18.017041      0.764763      4.468841\n",
       "min    5.000000e+06  2.033165e+06    63.000000      3.300000   2000.000000\n",
       "25%    2.000000e+07  3.456058e+07    97.000000      5.600000   2004.000000\n",
       "50%    3.800000e+07  8.361541e+07   107.000000      6.100000   2008.000000\n",
       "75%    7.200000e+07  1.782626e+08   120.000000      6.600000   2012.000000\n",
       "max    3.800000e+08  2.781506e+09   214.000000      8.100000   2015.000000"
      ]
     },
     "execution_count": 3,
     "metadata": {},
     "output_type": "execute_result"
    }
   ],
   "source": [
    "data.describe()"
   ]
  },
  {
   "cell_type": "markdown",
   "metadata": {
    "colab_type": "text",
    "id": "DTIt7ezGVp-G"
   },
   "source": [
    "# Предобработка"
   ]
  },
  {
   "cell_type": "code",
   "execution_count": 3,
   "metadata": {
    "colab": {},
    "colab_type": "code",
    "id": "jNb40DwKVp-H"
   },
   "outputs": [],
   "source": [
    "answers = {} # создадим словарь для ответов\n",
    "\n",
    "# тут другие ваши предобработки колонок например:\n",
    "data['profit']=data['revenue']-data['budget']\n",
    "#the time given in the dataset is in string format.\n",
    "#So we need to change this in datetime format\n",
    "def iteratio(x):\n",
    "    y=x.str.split('|')\n",
    "    z=y.explode()\n",
    "    return z.value_counts()"
   ]
  },
  {
   "cell_type": "markdown",
   "metadata": {
    "colab_type": "text",
    "id": "YxZaH-nPVp-L"
   },
   "source": [
    "# 1. У какого фильма из списка самый большой бюджет?"
   ]
  },
  {
   "cell_type": "markdown",
   "metadata": {
    "colab_type": "text",
    "id": "Nd-G5gX6Vp-M"
   },
   "source": [
    "Использовать варианты ответов в коде решения запрещено.    \n",
    "Вы думаете и в жизни у вас будут варианты ответов?)"
   ]
  },
  {
   "cell_type": "code",
   "execution_count": 10,
   "metadata": {
    "colab": {},
    "colab_type": "code",
    "id": "uVnXAY5RVp-O"
   },
   "outputs": [],
   "source": [
    "# в словарь вставляем номер вопроса и ваш ответ на него\n",
    "# запишите свой вариант ответа\n",
    "answers['1'] = '723. Pirates of the Caribbean: On Stranger Tides (tt1298650) '\n",
    "# если ответили верно, можете добавить комментарий со значком \"+\""
   ]
  },
  {
   "cell_type": "code",
   "execution_count": 14,
   "metadata": {
    "colab": {},
    "colab_type": "code",
    "id": "dZwb3m28Vp-S"
   },
   "outputs": [
    {
     "data": {
      "text/html": [
       "<div>\n",
       "<style scoped>\n",
       "    .dataframe tbody tr th:only-of-type {\n",
       "        vertical-align: middle;\n",
       "    }\n",
       "\n",
       "    .dataframe tbody tr th {\n",
       "        vertical-align: top;\n",
       "    }\n",
       "\n",
       "    .dataframe thead th {\n",
       "        text-align: right;\n",
       "    }\n",
       "</style>\n",
       "<table border=\"1\" class=\"dataframe\">\n",
       "  <thead>\n",
       "    <tr style=\"text-align: right;\">\n",
       "      <th></th>\n",
       "      <th>imdb_id</th>\n",
       "      <th>budget</th>\n",
       "      <th>revenue</th>\n",
       "      <th>original_title</th>\n",
       "      <th>cast</th>\n",
       "      <th>director</th>\n",
       "      <th>tagline</th>\n",
       "      <th>overview</th>\n",
       "      <th>runtime</th>\n",
       "      <th>genres</th>\n",
       "      <th>production_companies</th>\n",
       "      <th>release_date</th>\n",
       "      <th>vote_average</th>\n",
       "      <th>release_year</th>\n",
       "    </tr>\n",
       "  </thead>\n",
       "  <tbody>\n",
       "    <tr>\n",
       "      <th>723</th>\n",
       "      <td>tt1298650</td>\n",
       "      <td>380000000</td>\n",
       "      <td>1021683000</td>\n",
       "      <td>Pirates of the Caribbean: On Stranger Tides</td>\n",
       "      <td>Johnny Depp|PenÃ©lope Cruz|Geoffrey Rush|Ian M...</td>\n",
       "      <td>Rob Marshall</td>\n",
       "      <td>Live Forever Or Die Trying.</td>\n",
       "      <td>Captain Jack Sparrow crosses paths with a woma...</td>\n",
       "      <td>136</td>\n",
       "      <td>Adventure|Action|Fantasy</td>\n",
       "      <td>Walt Disney Pictures|Jerry Bruckheimer Films|M...</td>\n",
       "      <td>5/11/2011</td>\n",
       "      <td>6.3</td>\n",
       "      <td>2011</td>\n",
       "    </tr>\n",
       "  </tbody>\n",
       "</table>\n",
       "</div>"
      ],
      "text/plain": [
       "       imdb_id     budget     revenue  \\\n",
       "723  tt1298650  380000000  1021683000   \n",
       "\n",
       "                                  original_title  \\\n",
       "723  Pirates of the Caribbean: On Stranger Tides   \n",
       "\n",
       "                                                  cast      director  \\\n",
       "723  Johnny Depp|PenÃ©lope Cruz|Geoffrey Rush|Ian M...  Rob Marshall   \n",
       "\n",
       "                         tagline  \\\n",
       "723  Live Forever Or Die Trying.   \n",
       "\n",
       "                                              overview  runtime  \\\n",
       "723  Captain Jack Sparrow crosses paths with a woma...      136   \n",
       "\n",
       "                       genres  \\\n",
       "723  Adventure|Action|Fantasy   \n",
       "\n",
       "                                  production_companies release_date  \\\n",
       "723  Walt Disney Pictures|Jerry Bruckheimer Films|M...    5/11/2011   \n",
       "\n",
       "     vote_average  release_year  \n",
       "723           6.3          2011  "
      ]
     },
     "execution_count": 14,
     "metadata": {},
     "output_type": "execute_result"
    }
   ],
   "source": [
    "# тут пишем ваш код для решения данного вопроса:\n",
    "data.query('budget== 380000000')"
   ]
  },
  {
   "cell_type": "markdown",
   "metadata": {
    "colab_type": "text",
    "id": "K7L3nbRXVp-X"
   },
   "source": [
    "ВАРИАНТ 2"
   ]
  },
  {
   "cell_type": "code",
   "execution_count": 0,
   "metadata": {
    "colab": {},
    "colab_type": "code",
    "id": "OGaoQI7rVp-X"
   },
   "outputs": [],
   "source": [
    "# можно добавлять разные варианты решения"
   ]
  },
  {
   "cell_type": "markdown",
   "metadata": {
    "colab_type": "text",
    "id": "FNRbbI3vVp-c"
   },
   "source": [
    "# 2. Какой из фильмов самый длительный (в минутах)?"
   ]
  },
  {
   "cell_type": "code",
   "execution_count": 16,
   "metadata": {
    "colab": {},
    "colab_type": "code",
    "id": "vHAoEXNTVp-d"
   },
   "outputs": [],
   "source": [
    "# думаю логику работы с этим словарем вы уже поняли, \n",
    "# по этому не буду больше его дублировать\n",
    "answers['2'] = '1157 Gods and Generals (tt0279111)'"
   ]
  },
  {
   "cell_type": "code",
   "execution_count": 17,
   "metadata": {
    "colab": {},
    "colab_type": "code",
    "id": "ot-VX2XrVp-g"
   },
   "outputs": [
    {
     "data": {
      "text/html": [
       "<div>\n",
       "<style scoped>\n",
       "    .dataframe tbody tr th:only-of-type {\n",
       "        vertical-align: middle;\n",
       "    }\n",
       "\n",
       "    .dataframe tbody tr th {\n",
       "        vertical-align: top;\n",
       "    }\n",
       "\n",
       "    .dataframe thead th {\n",
       "        text-align: right;\n",
       "    }\n",
       "</style>\n",
       "<table border=\"1\" class=\"dataframe\">\n",
       "  <thead>\n",
       "    <tr style=\"text-align: right;\">\n",
       "      <th></th>\n",
       "      <th>imdb_id</th>\n",
       "      <th>budget</th>\n",
       "      <th>revenue</th>\n",
       "      <th>original_title</th>\n",
       "      <th>cast</th>\n",
       "      <th>director</th>\n",
       "      <th>tagline</th>\n",
       "      <th>overview</th>\n",
       "      <th>runtime</th>\n",
       "      <th>genres</th>\n",
       "      <th>production_companies</th>\n",
       "      <th>release_date</th>\n",
       "      <th>vote_average</th>\n",
       "      <th>release_year</th>\n",
       "    </tr>\n",
       "  </thead>\n",
       "  <tbody>\n",
       "    <tr>\n",
       "      <th>1157</th>\n",
       "      <td>tt0279111</td>\n",
       "      <td>56000000</td>\n",
       "      <td>12923936</td>\n",
       "      <td>Gods and Generals</td>\n",
       "      <td>Stephen Lang|Jeff Daniels|Robert Duvall|Kevin ...</td>\n",
       "      <td>Ronald F. Maxwell</td>\n",
       "      <td>The nations heart was touched by...</td>\n",
       "      <td>The film centers mostly around the personal an...</td>\n",
       "      <td>214</td>\n",
       "      <td>Drama|History|War</td>\n",
       "      <td>Turner Pictures|Antietam Filmworks</td>\n",
       "      <td>2/21/2003</td>\n",
       "      <td>5.8</td>\n",
       "      <td>2003</td>\n",
       "    </tr>\n",
       "  </tbody>\n",
       "</table>\n",
       "</div>"
      ],
      "text/plain": [
       "        imdb_id    budget   revenue     original_title  \\\n",
       "1157  tt0279111  56000000  12923936  Gods and Generals   \n",
       "\n",
       "                                                   cast           director  \\\n",
       "1157  Stephen Lang|Jeff Daniels|Robert Duvall|Kevin ...  Ronald F. Maxwell   \n",
       "\n",
       "                                  tagline  \\\n",
       "1157  The nations heart was touched by...   \n",
       "\n",
       "                                               overview  runtime  \\\n",
       "1157  The film centers mostly around the personal an...      214   \n",
       "\n",
       "                 genres                production_companies release_date  \\\n",
       "1157  Drama|History|War  Turner Pictures|Antietam Filmworks    2/21/2003   \n",
       "\n",
       "      vote_average  release_year  \n",
       "1157           5.8          2003  "
      ]
     },
     "execution_count": 17,
     "metadata": {},
     "output_type": "execute_result"
    }
   ],
   "source": [
    "data.query('runtime== 214')"
   ]
  },
  {
   "cell_type": "markdown",
   "metadata": {
    "colab_type": "text",
    "id": "bapLlpW8Vp-k"
   },
   "source": [
    "# 3. Какой из фильмов самый короткий (в минутах)?\n",
    "\n",
    "\n",
    "\n"
   ]
  },
  {
   "cell_type": "code",
   "execution_count": 18,
   "metadata": {
    "colab": {},
    "colab_type": "code",
    "id": "YBxaSHuAVp-l"
   },
   "outputs": [
    {
     "data": {
      "text/html": [
       "<div>\n",
       "<style scoped>\n",
       "    .dataframe tbody tr th:only-of-type {\n",
       "        vertical-align: middle;\n",
       "    }\n",
       "\n",
       "    .dataframe tbody tr th {\n",
       "        vertical-align: top;\n",
       "    }\n",
       "\n",
       "    .dataframe thead th {\n",
       "        text-align: right;\n",
       "    }\n",
       "</style>\n",
       "<table border=\"1\" class=\"dataframe\">\n",
       "  <thead>\n",
       "    <tr style=\"text-align: right;\">\n",
       "      <th></th>\n",
       "      <th>imdb_id</th>\n",
       "      <th>budget</th>\n",
       "      <th>revenue</th>\n",
       "      <th>original_title</th>\n",
       "      <th>cast</th>\n",
       "      <th>director</th>\n",
       "      <th>tagline</th>\n",
       "      <th>overview</th>\n",
       "      <th>runtime</th>\n",
       "      <th>genres</th>\n",
       "      <th>production_companies</th>\n",
       "      <th>release_date</th>\n",
       "      <th>vote_average</th>\n",
       "      <th>release_year</th>\n",
       "    </tr>\n",
       "  </thead>\n",
       "  <tbody>\n",
       "    <tr>\n",
       "      <th>768</th>\n",
       "      <td>tt1449283</td>\n",
       "      <td>30000000</td>\n",
       "      <td>14460000</td>\n",
       "      <td>Winnie the Pooh</td>\n",
       "      <td>Jim Cummings|Travis Oates|Jim Cummings|Bud Luc...</td>\n",
       "      <td>Stephen Anderson|Don Hall</td>\n",
       "      <td>Oh Pooh.</td>\n",
       "      <td>During an ordinary day in Hundred Acre Wood, W...</td>\n",
       "      <td>63</td>\n",
       "      <td>Animation|Family</td>\n",
       "      <td>Walt Disney Pictures|Walt Disney Animation Stu...</td>\n",
       "      <td>4/13/2011</td>\n",
       "      <td>6.8</td>\n",
       "      <td>2011</td>\n",
       "    </tr>\n",
       "  </tbody>\n",
       "</table>\n",
       "</div>"
      ],
      "text/plain": [
       "       imdb_id    budget   revenue   original_title  \\\n",
       "768  tt1449283  30000000  14460000  Winnie the Pooh   \n",
       "\n",
       "                                                  cast  \\\n",
       "768  Jim Cummings|Travis Oates|Jim Cummings|Bud Luc...   \n",
       "\n",
       "                      director   tagline  \\\n",
       "768  Stephen Anderson|Don Hall  Oh Pooh.   \n",
       "\n",
       "                                              overview  runtime  \\\n",
       "768  During an ordinary day in Hundred Acre Wood, W...       63   \n",
       "\n",
       "               genres                               production_companies  \\\n",
       "768  Animation|Family  Walt Disney Pictures|Walt Disney Animation Stu...   \n",
       "\n",
       "    release_date  vote_average  release_year  \n",
       "768    4/13/2011           6.8          2011  "
      ]
     },
     "execution_count": 18,
     "metadata": {},
     "output_type": "execute_result"
    }
   ],
   "source": [
    "data.query('runtime== 63')"
   ]
  },
  {
   "cell_type": "code",
   "execution_count": 19,
   "metadata": {},
   "outputs": [],
   "source": [
    "answers['3'] = '768 Winnie the Pooh (tt1449283)'"
   ]
  },
  {
   "cell_type": "markdown",
   "metadata": {
    "colab_type": "text",
    "id": "TfQbxbfNVp-p"
   },
   "source": [
    "# 4. Какова средняя длительность фильмов?\n"
   ]
  },
  {
   "cell_type": "code",
   "execution_count": 21,
   "metadata": {
    "colab": {},
    "colab_type": "code",
    "id": "5K6dKZYVVp-q"
   },
   "outputs": [
    {
     "data": {
      "text/plain": [
       "109.658549"
      ]
     },
     "execution_count": 21,
     "metadata": {},
     "output_type": "execute_result"
    }
   ],
   "source": [
    "109.658549"
   ]
  },
  {
   "cell_type": "markdown",
   "metadata": {
    "colab_type": "text",
    "id": "r5TvbnT_Vp-u"
   },
   "source": [
    "# 5. Каково медианное значение длительности фильмов? "
   ]
  },
  {
   "cell_type": "code",
   "execution_count": 20,
   "metadata": {
    "colab": {},
    "colab_type": "code",
    "id": "iBROplKnVp-v"
   },
   "outputs": [
    {
     "data": {
      "text/plain": [
       "107.0"
      ]
     },
     "execution_count": 20,
     "metadata": {},
     "output_type": "execute_result"
    }
   ],
   "source": [
    "107.000000"
   ]
  },
  {
   "cell_type": "markdown",
   "metadata": {
    "colab_type": "text",
    "id": "39P-deDSVp-y"
   },
   "source": [
    "# 6. Какой самый прибыльный фильм?\n",
    "#### Внимание! Здесь и далее под «прибылью» или «убытками» понимается разность между сборами и бюджетом фильма. (прибыль = сборы - бюджет) в нашем датасете это будет (profit = revenue - budget) "
   ]
  },
  {
   "cell_type": "code",
   "execution_count": 24,
   "metadata": {},
   "outputs": [
    {
     "data": {
      "text/html": [
       "<div>\n",
       "<style scoped>\n",
       "    .dataframe tbody tr th:only-of-type {\n",
       "        vertical-align: middle;\n",
       "    }\n",
       "\n",
       "    .dataframe tbody tr th {\n",
       "        vertical-align: top;\n",
       "    }\n",
       "\n",
       "    .dataframe thead th {\n",
       "        text-align: right;\n",
       "    }\n",
       "</style>\n",
       "<table border=\"1\" class=\"dataframe\">\n",
       "  <thead>\n",
       "    <tr style=\"text-align: right;\">\n",
       "      <th></th>\n",
       "      <th>imdb_id</th>\n",
       "      <th>budget</th>\n",
       "      <th>revenue</th>\n",
       "      <th>original_title</th>\n",
       "      <th>cast</th>\n",
       "      <th>director</th>\n",
       "      <th>tagline</th>\n",
       "      <th>overview</th>\n",
       "      <th>runtime</th>\n",
       "      <th>genres</th>\n",
       "      <th>production_companies</th>\n",
       "      <th>release_date</th>\n",
       "      <th>vote_average</th>\n",
       "      <th>release_year</th>\n",
       "      <th>profit</th>\n",
       "    </tr>\n",
       "  </thead>\n",
       "  <tbody>\n",
       "    <tr>\n",
       "      <th>239</th>\n",
       "      <td>tt0499549</td>\n",
       "      <td>237000000</td>\n",
       "      <td>2781505847</td>\n",
       "      <td>Avatar</td>\n",
       "      <td>Sam Worthington|Zoe Saldana|Sigourney Weaver|S...</td>\n",
       "      <td>James Cameron</td>\n",
       "      <td>Enter the World of Pandora.</td>\n",
       "      <td>In the 22nd century, a paraplegic Marine is di...</td>\n",
       "      <td>162</td>\n",
       "      <td>Action|Adventure|Fantasy|Science Fiction</td>\n",
       "      <td>Ingenious Film Partners|Twentieth Century Fox ...</td>\n",
       "      <td>12/10/2009</td>\n",
       "      <td>7.1</td>\n",
       "      <td>2009</td>\n",
       "      <td>2544505847</td>\n",
       "    </tr>\n",
       "  </tbody>\n",
       "</table>\n",
       "</div>"
      ],
      "text/plain": [
       "       imdb_id     budget     revenue original_title  \\\n",
       "239  tt0499549  237000000  2781505847         Avatar   \n",
       "\n",
       "                                                  cast       director  \\\n",
       "239  Sam Worthington|Zoe Saldana|Sigourney Weaver|S...  James Cameron   \n",
       "\n",
       "                         tagline  \\\n",
       "239  Enter the World of Pandora.   \n",
       "\n",
       "                                              overview  runtime  \\\n",
       "239  In the 22nd century, a paraplegic Marine is di...      162   \n",
       "\n",
       "                                       genres  \\\n",
       "239  Action|Adventure|Fantasy|Science Fiction   \n",
       "\n",
       "                                  production_companies release_date  \\\n",
       "239  Ingenious Film Partners|Twentieth Century Fox ...   12/10/2009   \n",
       "\n",
       "     vote_average  release_year      profit  \n",
       "239           7.1          2009  2544505847  "
      ]
     },
     "execution_count": 24,
     "metadata": {},
     "output_type": "execute_result"
    }
   ],
   "source": [
    "data.profit.max() #2544505847\n",
    "data[data.profit==2544505847]"
   ]
  },
  {
   "cell_type": "markdown",
   "metadata": {
    "colab_type": "text",
    "id": "M99JmIX4Vp-2"
   },
   "source": [
    "# 7. Какой фильм самый убыточный? "
   ]
  },
  {
   "cell_type": "code",
   "execution_count": 35,
   "metadata": {
    "colab": {},
    "colab_type": "code",
    "id": "w-D2m4XPVp-3"
   },
   "outputs": [
    {
     "data": {
      "text/html": [
       "<div>\n",
       "<style scoped>\n",
       "    .dataframe tbody tr th:only-of-type {\n",
       "        vertical-align: middle;\n",
       "    }\n",
       "\n",
       "    .dataframe tbody tr th {\n",
       "        vertical-align: top;\n",
       "    }\n",
       "\n",
       "    .dataframe thead th {\n",
       "        text-align: right;\n",
       "    }\n",
       "</style>\n",
       "<table border=\"1\" class=\"dataframe\">\n",
       "  <thead>\n",
       "    <tr style=\"text-align: right;\">\n",
       "      <th></th>\n",
       "      <th>imdb_id</th>\n",
       "      <th>budget</th>\n",
       "      <th>revenue</th>\n",
       "      <th>original_title</th>\n",
       "      <th>cast</th>\n",
       "      <th>director</th>\n",
       "      <th>tagline</th>\n",
       "      <th>overview</th>\n",
       "      <th>runtime</th>\n",
       "      <th>genres</th>\n",
       "      <th>production_companies</th>\n",
       "      <th>release_date</th>\n",
       "      <th>vote_average</th>\n",
       "      <th>release_year</th>\n",
       "      <th>profit</th>\n",
       "    </tr>\n",
       "  </thead>\n",
       "  <tbody>\n",
       "    <tr>\n",
       "      <th>1245</th>\n",
       "      <td>tt1210819</td>\n",
       "      <td>255000000</td>\n",
       "      <td>89289910</td>\n",
       "      <td>The Lone Ranger</td>\n",
       "      <td>Johnny Depp|Armie Hammer|William Fichtner|Hele...</td>\n",
       "      <td>Gore Verbinski</td>\n",
       "      <td>Never Take Off the Mask</td>\n",
       "      <td>The Texas Rangers chase down a gang of outlaws...</td>\n",
       "      <td>149</td>\n",
       "      <td>Action|Adventure|Western</td>\n",
       "      <td>Walt Disney Pictures|Jerry Bruckheimer Films|I...</td>\n",
       "      <td>7/3/2013</td>\n",
       "      <td>6.0</td>\n",
       "      <td>2013</td>\n",
       "      <td>-165710090</td>\n",
       "    </tr>\n",
       "  </tbody>\n",
       "</table>\n",
       "</div>"
      ],
      "text/plain": [
       "        imdb_id     budget   revenue   original_title  \\\n",
       "1245  tt1210819  255000000  89289910  The Lone Ranger   \n",
       "\n",
       "                                                   cast        director  \\\n",
       "1245  Johnny Depp|Armie Hammer|William Fichtner|Hele...  Gore Verbinski   \n",
       "\n",
       "                      tagline  \\\n",
       "1245  Never Take Off the Mask   \n",
       "\n",
       "                                               overview  runtime  \\\n",
       "1245  The Texas Rangers chase down a gang of outlaws...      149   \n",
       "\n",
       "                        genres  \\\n",
       "1245  Action|Adventure|Western   \n",
       "\n",
       "                                   production_companies release_date  \\\n",
       "1245  Walt Disney Pictures|Jerry Bruckheimer Films|I...     7/3/2013   \n",
       "\n",
       "      vote_average  release_year     profit  \n",
       "1245           6.0          2013 -165710090  "
      ]
     },
     "execution_count": 35,
     "metadata": {},
     "output_type": "execute_result"
    }
   ],
   "source": [
    "data['profit'].min() #-165710090\n",
    "data[data.profit==-165710090]"
   ]
  },
  {
   "cell_type": "code",
   "execution_count": 45,
   "metadata": {},
   "outputs": [
    {
     "data": {
      "text/plain": [
       "1245    The Lone Ranger\n",
       "Name: original_title, dtype: object"
      ]
     },
     "execution_count": 45,
     "metadata": {},
     "output_type": "execute_result"
    }
   ],
   "source": [
    "data[data['profit'] == data['profit'].min()]['original_title']"
   ]
  },
  {
   "cell_type": "markdown",
   "metadata": {
    "colab_type": "text",
    "id": "wEOM5ERVVp-6"
   },
   "source": [
    "# 8. У скольких фильмов из датасета объем сборов оказался выше бюджета?"
   ]
  },
  {
   "cell_type": "code",
   "execution_count": 36,
   "metadata": {
    "colab": {},
    "colab_type": "code",
    "id": "y00_7HD6Vp-7"
   },
   "outputs": [
    {
     "data": {
      "text/plain": [
       "1478"
      ]
     },
     "execution_count": 36,
     "metadata": {},
     "output_type": "execute_result"
    }
   ],
   "source": [
    "len(data[data['profit']>0])"
   ]
  },
  {
   "cell_type": "markdown",
   "metadata": {
    "colab_type": "text",
    "id": "xhpspA9KVp_A"
   },
   "source": [
    "# 9. Какой фильм оказался самым кассовым в 2008 году?"
   ]
  },
  {
   "cell_type": "code",
   "execution_count": 38,
   "metadata": {
    "colab": {},
    "colab_type": "code",
    "id": "MoUyQr9RVp_B"
   },
   "outputs": [
    {
     "data": {
      "text/html": [
       "<div>\n",
       "<style scoped>\n",
       "    .dataframe tbody tr th:only-of-type {\n",
       "        vertical-align: middle;\n",
       "    }\n",
       "\n",
       "    .dataframe tbody tr th {\n",
       "        vertical-align: top;\n",
       "    }\n",
       "\n",
       "    .dataframe thead th {\n",
       "        text-align: right;\n",
       "    }\n",
       "</style>\n",
       "<table border=\"1\" class=\"dataframe\">\n",
       "  <thead>\n",
       "    <tr style=\"text-align: right;\">\n",
       "      <th></th>\n",
       "      <th>imdb_id</th>\n",
       "      <th>budget</th>\n",
       "      <th>revenue</th>\n",
       "      <th>original_title</th>\n",
       "      <th>cast</th>\n",
       "      <th>director</th>\n",
       "      <th>tagline</th>\n",
       "      <th>overview</th>\n",
       "      <th>runtime</th>\n",
       "      <th>genres</th>\n",
       "      <th>production_companies</th>\n",
       "      <th>release_date</th>\n",
       "      <th>vote_average</th>\n",
       "      <th>release_year</th>\n",
       "      <th>profit</th>\n",
       "    </tr>\n",
       "  </thead>\n",
       "  <tbody>\n",
       "    <tr>\n",
       "      <th>599</th>\n",
       "      <td>tt0468569</td>\n",
       "      <td>185000000</td>\n",
       "      <td>1001921825</td>\n",
       "      <td>The Dark Knight</td>\n",
       "      <td>Christian Bale|Michael Caine|Heath Ledger|Aaro...</td>\n",
       "      <td>Christopher Nolan</td>\n",
       "      <td>Why So Serious?</td>\n",
       "      <td>Batman raises the stakes in his war on crime. ...</td>\n",
       "      <td>152</td>\n",
       "      <td>Drama|Action|Crime|Thriller</td>\n",
       "      <td>DC Comics|Legendary Pictures|Warner Bros.|Syncopy</td>\n",
       "      <td>7/16/2008</td>\n",
       "      <td>8.1</td>\n",
       "      <td>2008</td>\n",
       "      <td>816921825</td>\n",
       "    </tr>\n",
       "  </tbody>\n",
       "</table>\n",
       "</div>"
      ],
      "text/plain": [
       "       imdb_id     budget     revenue   original_title  \\\n",
       "599  tt0468569  185000000  1001921825  The Dark Knight   \n",
       "\n",
       "                                                  cast           director  \\\n",
       "599  Christian Bale|Michael Caine|Heath Ledger|Aaro...  Christopher Nolan   \n",
       "\n",
       "             tagline                                           overview  \\\n",
       "599  Why So Serious?  Batman raises the stakes in his war on crime. ...   \n",
       "\n",
       "     runtime                       genres  \\\n",
       "599      152  Drama|Action|Crime|Thriller   \n",
       "\n",
       "                                  production_companies release_date  \\\n",
       "599  DC Comics|Legendary Pictures|Warner Bros.|Syncopy    7/16/2008   \n",
       "\n",
       "     vote_average  release_year     profit  \n",
       "599           8.1          2008  816921825  "
      ]
     },
     "execution_count": 38,
     "metadata": {},
     "output_type": "execute_result"
    }
   ],
   "source": [
    "data[data.release_year==2008].profit.max() #816921825\n",
    "data[data.profit==816921825]"
   ]
  },
  {
   "cell_type": "markdown",
   "metadata": {
    "colab_type": "text",
    "id": "Zi4hDKidVp_F"
   },
   "source": [
    "# 10. Самый убыточный фильм за период с 2012 по 2014 г. (включительно)?\n"
   ]
  },
  {
   "cell_type": "code",
   "execution_count": 47,
   "metadata": {
    "colab": {},
    "colab_type": "code",
    "id": "XqyRmufJVp_F"
   },
   "outputs": [
    {
     "data": {
      "text/html": [
       "<div>\n",
       "<style scoped>\n",
       "    .dataframe tbody tr th:only-of-type {\n",
       "        vertical-align: middle;\n",
       "    }\n",
       "\n",
       "    .dataframe tbody tr th {\n",
       "        vertical-align: top;\n",
       "    }\n",
       "\n",
       "    .dataframe thead th {\n",
       "        text-align: right;\n",
       "    }\n",
       "</style>\n",
       "<table border=\"1\" class=\"dataframe\">\n",
       "  <thead>\n",
       "    <tr style=\"text-align: right;\">\n",
       "      <th></th>\n",
       "      <th>imdb_id</th>\n",
       "      <th>budget</th>\n",
       "      <th>revenue</th>\n",
       "      <th>original_title</th>\n",
       "      <th>cast</th>\n",
       "      <th>director</th>\n",
       "      <th>tagline</th>\n",
       "      <th>overview</th>\n",
       "      <th>runtime</th>\n",
       "      <th>genres</th>\n",
       "      <th>production_companies</th>\n",
       "      <th>release_date</th>\n",
       "      <th>vote_average</th>\n",
       "      <th>release_year</th>\n",
       "      <th>profit</th>\n",
       "    </tr>\n",
       "  </thead>\n",
       "  <tbody>\n",
       "    <tr>\n",
       "      <th>1245</th>\n",
       "      <td>tt1210819</td>\n",
       "      <td>255000000</td>\n",
       "      <td>89289910</td>\n",
       "      <td>The Lone Ranger</td>\n",
       "      <td>Johnny Depp|Armie Hammer|William Fichtner|Hele...</td>\n",
       "      <td>Gore Verbinski</td>\n",
       "      <td>Never Take Off the Mask</td>\n",
       "      <td>The Texas Rangers chase down a gang of outlaws...</td>\n",
       "      <td>149</td>\n",
       "      <td>Action|Adventure|Western</td>\n",
       "      <td>Walt Disney Pictures|Jerry Bruckheimer Films|I...</td>\n",
       "      <td>7/3/2013</td>\n",
       "      <td>6.0</td>\n",
       "      <td>2013</td>\n",
       "      <td>-165710090</td>\n",
       "    </tr>\n",
       "  </tbody>\n",
       "</table>\n",
       "</div>"
      ],
      "text/plain": [
       "        imdb_id     budget   revenue   original_title  \\\n",
       "1245  tt1210819  255000000  89289910  The Lone Ranger   \n",
       "\n",
       "                                                   cast        director  \\\n",
       "1245  Johnny Depp|Armie Hammer|William Fichtner|Hele...  Gore Verbinski   \n",
       "\n",
       "                      tagline  \\\n",
       "1245  Never Take Off the Mask   \n",
       "\n",
       "                                               overview  runtime  \\\n",
       "1245  The Texas Rangers chase down a gang of outlaws...      149   \n",
       "\n",
       "                        genres  \\\n",
       "1245  Action|Adventure|Western   \n",
       "\n",
       "                                   production_companies release_date  \\\n",
       "1245  Walt Disney Pictures|Jerry Bruckheimer Films|I...     7/3/2013   \n",
       "\n",
       "      vote_average  release_year     profit  \n",
       "1245           6.0          2013 -165710090  "
      ]
     },
     "execution_count": 47,
     "metadata": {},
     "output_type": "execute_result"
    }
   ],
   "source": [
    "data[(data.release_year>=2012)&(data.release_year<=2014)].profit.min() #-165710090\n",
    "data[data.profit==-165710090]"
   ]
  },
  {
   "cell_type": "markdown",
   "metadata": {
    "colab_type": "text",
    "id": "EA7Sa9dkVp_I"
   },
   "source": [
    "# 11. Какого жанра фильмов больше всего?"
   ]
  },
  {
   "cell_type": "code",
   "execution_count": 111,
   "metadata": {
    "colab": {},
    "colab_type": "code",
    "id": "zsJAwJ8QVp_J"
   },
   "outputs": [
    {
     "data": {
      "text/plain": [
       "Drama    782\n",
       "Name: genres, dtype: int64"
      ]
     },
     "execution_count": 111,
     "metadata": {},
     "output_type": "execute_result"
    }
   ],
   "source": [
    "genres=data['genres'].str.split('|')\n",
    "genres1=genres.explode('genres')\n",
    "genres1.value_counts().head(1)"
   ]
  },
  {
   "cell_type": "markdown",
   "metadata": {
    "colab_type": "text",
    "id": "Ax6g2C8SVp_M"
   },
   "source": [
    "ВАРИАНТ 2"
   ]
  },
  {
   "cell_type": "code",
   "execution_count": 110,
   "metadata": {
    "colab": {},
    "colab_type": "code",
    "id": "otO3SbrSVp_N"
   },
   "outputs": [
    {
     "data": {
      "text/plain": [
       "Drama    782\n",
       "Name: genres, dtype: int64"
      ]
     },
     "execution_count": 110,
     "metadata": {},
     "output_type": "execute_result"
    }
   ],
   "source": [
    "iteratio(data['genres']).head(1)"
   ]
  },
  {
   "cell_type": "markdown",
   "metadata": {
    "colab_type": "text",
    "id": "T9_bPWpkVp_Q"
   },
   "source": [
    "# 12. Фильмы какого жанра чаще всего становятся прибыльными? "
   ]
  },
  {
   "cell_type": "code",
   "execution_count": 108,
   "metadata": {
    "colab": {},
    "colab_type": "code",
    "id": "Tmt8MaK1Vp_R"
   },
   "outputs": [
    {
     "data": {
      "text/plain": [
       "Drama    560\n",
       "Name: genres, dtype: int64"
      ]
     },
     "execution_count": 108,
     "metadata": {},
     "output_type": "execute_result"
    }
   ],
   "source": [
    "more=data[data['profit']>0]\n",
    "more2=more['genres'].str.split('|')\n",
    "more3=more2.explode('genres')\n",
    "more3.value_counts().head(1)"
   ]
  },
  {
   "cell_type": "code",
   "execution_count": 109,
   "metadata": {},
   "outputs": [
    {
     "data": {
      "text/plain": [
       "Drama    560\n",
       "Name: genres, dtype: int64"
      ]
     },
     "execution_count": 109,
     "metadata": {},
     "output_type": "execute_result"
    }
   ],
   "source": [
    "iteratio(more['genres']).head(1)"
   ]
  },
  {
   "cell_type": "markdown",
   "metadata": {
    "colab_type": "text",
    "id": "0F23bgsDVp_U"
   },
   "source": [
    "# 13. У какого режиссера самые большие суммарные кассовые сборы?"
   ]
  },
  {
   "cell_type": "code",
   "execution_count": 107,
   "metadata": {},
   "outputs": [
    {
     "data": {
      "text/plain": [
       "director\n",
       "Peter Jackson    6490593685\n",
       "Name: revenue, dtype: int64"
      ]
     },
     "execution_count": 107,
     "metadata": {},
     "output_type": "execute_result"
    }
   ],
   "source": [
    "data.groupby(['director'])['revenue'].sum().sort_values(ascending=False).head(1)"
   ]
  },
  {
   "cell_type": "markdown",
   "metadata": {
    "colab_type": "text",
    "id": "PsYC9FgRVp_a"
   },
   "source": [
    "# 14. Какой режисер снял больше всего фильмов в стиле Action?"
   ]
  },
  {
   "cell_type": "code",
   "execution_count": 24,
   "metadata": {},
   "outputs": [],
   "source": [
    "data0=data.drop(['imdb_id','budget','revenue','original_title','cast','tagline','overview','runtime','production_companies','release_date','vote_average','release_year','profit'],axis=1)"
   ]
  },
  {
   "cell_type": "code",
   "execution_count": 25,
   "metadata": {
    "colab": {},
    "colab_type": "code",
    "id": "wd2M-wHeVp_b"
   },
   "outputs": [],
   "source": [
    "action=data0[data0.genres.str.contains('Action')]"
   ]
  },
  {
   "cell_type": "code",
   "execution_count": 26,
   "metadata": {},
   "outputs": [
    {
     "data": {
      "text/plain": [
       "Robert Rodriguez    9\n",
       "Name: director, dtype: int64"
      ]
     },
     "execution_count": 26,
     "metadata": {},
     "output_type": "execute_result"
    }
   ],
   "source": [
    "iteratio(action['director']).head(1)"
   ]
  },
  {
   "cell_type": "markdown",
   "metadata": {
    "colab_type": "text",
    "id": "PQ0KciD7Vp_f"
   },
   "source": [
    "# 15. Фильмы с каким актером принесли самые высокие кассовые сборы в 2012 году? "
   ]
  },
  {
   "cell_type": "code",
   "execution_count": 41,
   "metadata": {
    "colab": {},
    "colab_type": "code",
    "id": "aga62oeKVp_g"
   },
   "outputs": [],
   "source": [
    "data14=data[data['release_year']==2012]\n",
    "data15=data14.drop(['original_title','imdb_id','director','genres','budget','tagline','overview','runtime','production_companies','release_date','vote_average','release_year','profit'],axis=1)"
   ]
  },
  {
   "cell_type": "code",
   "execution_count": 40,
   "metadata": {},
   "outputs": [],
   "source": [
    "data15['actors']=data15.cast.str.split('|')\n",
    "data_exp=data15[['revenue','actors']].explode('actors')"
   ]
  },
  {
   "cell_type": "code",
   "execution_count": 39,
   "metadata": {},
   "outputs": [
    {
     "data": {
      "text/plain": [
       "actors\n",
       "Chris Hemsworth    2027450773\n",
       "Name: revenue, dtype: int64"
      ]
     },
     "execution_count": 39,
     "metadata": {},
     "output_type": "execute_result"
    }
   ],
   "source": [
    "data_exp.groupby(['actors'])['revenue'].sum().sort_values(ascending=False).head(1)"
   ]
  },
  {
   "cell_type": "markdown",
   "metadata": {
    "colab_type": "text",
    "id": "mWHyyL7QVp_j"
   },
   "source": [
    "# 16. Какой актер снялся в большем количестве высокобюджетных фильмов?"
   ]
  },
  {
   "cell_type": "code",
   "execution_count": 47,
   "metadata": {
    "colab": {},
    "colab_type": "code",
    "id": "qQtmHKTFVp_k"
   },
   "outputs": [
    {
     "name": "stderr",
     "output_type": "stream",
     "text": [
      "<ipython-input-47-6882cd02b7b2>:2: SettingWithCopyWarning: \n",
      "A value is trying to be set on a copy of a slice from a DataFrame.\n",
      "Try using .loc[row_indexer,col_indexer] = value instead\n",
      "\n",
      "See the caveats in the documentation: https://pandas.pydata.org/pandas-docs/stable/user_guide/indexing.html#returning-a-view-versus-a-copy\n",
      "  hight_budget['actors']=hight_budget.cast.str.split('|')\n"
     ]
    },
    {
     "data": {
      "text/plain": [
       "actors    \n",
       "Matt Damon    18\n",
       "dtype: int64"
      ]
     },
     "execution_count": 47,
     "metadata": {},
     "output_type": "execute_result"
    }
   ],
   "source": [
    "hight_budget=data[data['budget']>data['budget'].mean()]\n",
    "hight_budget['actors']=hight_budget.cast.str.split('|')\n",
    "data_16=hight_budget[['actors']].explode('actors')\n",
    "data_16.value_counts().head(1)"
   ]
  },
  {
   "cell_type": "markdown",
   "metadata": {
    "colab_type": "text",
    "id": "NIh6AaW5Vp_n"
   },
   "source": [
    "# 17. В фильмах какого жанра больше всего снимался Nicolas Cage? "
   ]
  },
  {
   "cell_type": "code",
   "execution_count": 51,
   "metadata": {
    "colab": {},
    "colab_type": "code",
    "id": "H74SJDIBVp_n"
   },
   "outputs": [
    {
     "data": {
      "text/plain": [
       "Action    17\n",
       "Name: genres, dtype: int64"
      ]
     },
     "execution_count": 51,
     "metadata": {},
     "output_type": "execute_result"
    }
   ],
   "source": [
    "nicolas=data[data.cast.str.contains('Nicolas Cage')]\n",
    "iteratio(nicolas['genres']).head(1)"
   ]
  },
  {
   "cell_type": "markdown",
   "metadata": {
    "colab_type": "text",
    "id": "RqOmPRfWVp_q"
   },
   "source": [
    "# 18. Самый убыточный фильм от Paramount Pictures"
   ]
  },
  {
   "cell_type": "code",
   "execution_count": 55,
   "metadata": {
    "colab": {},
    "colab_type": "code",
    "id": "9E_B0Y96Vp_r"
   },
   "outputs": [
    {
     "data": {
      "text/html": [
       "<div>\n",
       "<style scoped>\n",
       "    .dataframe tbody tr th:only-of-type {\n",
       "        vertical-align: middle;\n",
       "    }\n",
       "\n",
       "    .dataframe tbody tr th {\n",
       "        vertical-align: top;\n",
       "    }\n",
       "\n",
       "    .dataframe thead th {\n",
       "        text-align: right;\n",
       "    }\n",
       "</style>\n",
       "<table border=\"1\" class=\"dataframe\">\n",
       "  <thead>\n",
       "    <tr style=\"text-align: right;\">\n",
       "      <th></th>\n",
       "      <th>imdb_id</th>\n",
       "      <th>budget</th>\n",
       "      <th>revenue</th>\n",
       "      <th>original_title</th>\n",
       "      <th>cast</th>\n",
       "      <th>director</th>\n",
       "      <th>tagline</th>\n",
       "      <th>overview</th>\n",
       "      <th>runtime</th>\n",
       "      <th>genres</th>\n",
       "      <th>production_companies</th>\n",
       "      <th>release_date</th>\n",
       "      <th>vote_average</th>\n",
       "      <th>release_year</th>\n",
       "      <th>profit</th>\n",
       "    </tr>\n",
       "  </thead>\n",
       "  <tbody>\n",
       "    <tr>\n",
       "      <th>925</th>\n",
       "      <td>tt0267626</td>\n",
       "      <td>100000000</td>\n",
       "      <td>35168966</td>\n",
       "      <td>K-19: The Widowmaker</td>\n",
       "      <td>Harrison Ford|Liam Neeson|Peter Sarsgaard|Joss...</td>\n",
       "      <td>Kathryn Bigelow</td>\n",
       "      <td>Fate has found its hero.</td>\n",
       "      <td>When Russia's first nuclear submarine malfunct...</td>\n",
       "      <td>138</td>\n",
       "      <td>Thriller|Drama|History</td>\n",
       "      <td>Paramount Pictures|Intermedia Films|National G...</td>\n",
       "      <td>7/19/2002</td>\n",
       "      <td>6.0</td>\n",
       "      <td>2002</td>\n",
       "      <td>-64831034</td>\n",
       "    </tr>\n",
       "  </tbody>\n",
       "</table>\n",
       "</div>"
      ],
      "text/plain": [
       "       imdb_id     budget   revenue        original_title  \\\n",
       "925  tt0267626  100000000  35168966  K-19: The Widowmaker   \n",
       "\n",
       "                                                  cast         director  \\\n",
       "925  Harrison Ford|Liam Neeson|Peter Sarsgaard|Joss...  Kathryn Bigelow   \n",
       "\n",
       "                      tagline  \\\n",
       "925  Fate has found its hero.   \n",
       "\n",
       "                                              overview  runtime  \\\n",
       "925  When Russia's first nuclear submarine malfunct...      138   \n",
       "\n",
       "                     genres  \\\n",
       "925  Thriller|Drama|History   \n",
       "\n",
       "                                  production_companies release_date  \\\n",
       "925  Paramount Pictures|Intermedia Films|National G...    7/19/2002   \n",
       "\n",
       "     vote_average  release_year    profit  \n",
       "925           6.0          2002 -64831034  "
      ]
     },
     "execution_count": 55,
     "metadata": {},
     "output_type": "execute_result"
    }
   ],
   "source": [
    "Paramount=data[data.production_companies.str.contains('Paramount Pictures')]\n",
    "Paramount['profit'].min() #-64831034\n",
    "Paramount.query('profit==-64831034')"
   ]
  },
  {
   "cell_type": "markdown",
   "metadata": {
    "colab_type": "text",
    "id": "vS8Ur6ddVp_u"
   },
   "source": [
    "# 19. Какой год стал самым успешным по суммарным кассовым сборам?"
   ]
  },
  {
   "cell_type": "code",
   "execution_count": 59,
   "metadata": {
    "colab": {},
    "colab_type": "code",
    "id": "Dnbt4GdIVp_v"
   },
   "outputs": [
    {
     "data": {
      "text/plain": [
       "release_year\n",
       "2015    25449202382\n",
       "Name: revenue, dtype: int64"
      ]
     },
     "execution_count": 59,
     "metadata": {},
     "output_type": "execute_result"
    }
   ],
   "source": [
    "data.groupby(['release_year'])['revenue'].sum().sort_values(ascending=False).head(1)"
   ]
  },
  {
   "cell_type": "markdown",
   "metadata": {
    "colab_type": "text",
    "id": "JAzJh4QAVp_z"
   },
   "source": [
    "# 20. Какой самый прибыльный год для студии Warner Bros?"
   ]
  },
  {
   "cell_type": "code",
   "execution_count": 61,
   "metadata": {
    "colab": {},
    "colab_type": "code",
    "id": "wgVu02DEVp_0"
   },
   "outputs": [
    {
     "data": {
      "text/plain": [
       "release_year\n",
       "2014    3243064519\n",
       "Name: revenue, dtype: int64"
      ]
     },
     "execution_count": 61,
     "metadata": {},
     "output_type": "execute_result"
    }
   ],
   "source": [
    "Warner=data[data.production_companies.str.contains('Warner Bros')]\n",
    "Warner.groupby(['release_year'])['revenue'].sum().sort_values(ascending=False).head(1)"
   ]
  },
  {
   "cell_type": "markdown",
   "metadata": {
    "colab_type": "text",
    "id": "8Im1S2HRVp_4"
   },
   "source": [
    "# 21. В каком месяце за все годы суммарно вышло больше всего фильмов?"
   ]
  },
  {
   "cell_type": "code",
   "execution_count": 6,
   "metadata": {
    "colab": {},
    "colab_type": "code",
    "id": "lev6TH7gVp_4"
   },
   "outputs": [
    {
     "name": "stdout",
     "output_type": "stream",
     "text": [
      "110\n",
      "135\n",
      "156\n",
      "149\n",
      "140\n",
      "147\n",
      "142\n",
      "161\n",
      "227\n",
      "186\n",
      "146\n",
      "190\n"
     ]
    }
   ],
   "source": [
    "release=data['release_date'].str.split('/')\n",
    "month=release.tolist()\n",
    "list=[]\n",
    "for i in month:\n",
    "    for j in i:\n",
    "        list.append(j)\n",
    "        \n",
    "mmm=list[::3]\n",
    "print(mmm.count('1')) \n",
    "print(mmm.count('2')) \n",
    "print(mmm.count('3')) \n",
    "print(mmm.count('4')) \n",
    "print(mmm.count('5')) \n",
    "print(mmm.count('6'))\n",
    "print(mmm.count('7'))\n",
    "print(mmm.count('8'))\n",
    "print(mmm.count('9'))\n",
    "print(mmm.count('10'))\n",
    "print(mmm.count('11'))\n",
    "print(mmm.count('12'))"
   ]
  },
  {
   "cell_type": "markdown",
   "metadata": {
    "colab_type": "text",
    "id": "uAJsZ_NeVp_7"
   },
   "source": [
    "# 22. Сколько суммарно вышло фильмов летом? (за июнь, июль, август)"
   ]
  },
  {
   "cell_type": "code",
   "execution_count": 5,
   "metadata": {
    "colab": {},
    "colab_type": "code",
    "id": "Aa-hEREoVp_8"
   },
   "outputs": [
    {
     "name": "stdout",
     "output_type": "stream",
     "text": [
      "450\n"
     ]
    }
   ],
   "source": [
    "print((mmm.count('6'))+(mmm.count('7'))+(mmm.count('8')))"
   ]
  },
  {
   "cell_type": "markdown",
   "metadata": {
    "colab_type": "text",
    "id": "G94ppOY1VqAA"
   },
   "source": [
    "# 23. Для какого режиссера зима – самое продуктивное время года? "
   ]
  },
  {
   "cell_type": "code",
   "execution_count": 5,
   "metadata": {},
   "outputs": [],
   "source": [
    "data23=data.drop(['original_title','revenue','cast','imdb_id','genres','budget','tagline','overview','runtime','production_companies','vote_average','release_year','profit'],axis=1)\n"
   ]
  },
  {
   "cell_type": "code",
   "execution_count": 6,
   "metadata": {
    "colab": {},
    "colab_type": "code",
    "id": "RhNTsamuVqAB"
   },
   "outputs": [],
   "source": [
    "data23['release_date']=pd.to_datetime(data23.release_date)"
   ]
  },
  {
   "cell_type": "code",
   "execution_count": 7,
   "metadata": {},
   "outputs": [],
   "source": [
    "data23['month'] = data23['release_date'].dt.month"
   ]
  },
  {
   "cell_type": "code",
   "execution_count": 36,
   "metadata": {},
   "outputs": [
    {
     "data": {
      "text/html": [
       "<div>\n",
       "<style scoped>\n",
       "    .dataframe tbody tr th:only-of-type {\n",
       "        vertical-align: middle;\n",
       "    }\n",
       "\n",
       "    .dataframe tbody tr th {\n",
       "        vertical-align: top;\n",
       "    }\n",
       "\n",
       "    .dataframe thead th {\n",
       "        text-align: right;\n",
       "    }\n",
       "</style>\n",
       "<table border=\"1\" class=\"dataframe\">\n",
       "  <thead>\n",
       "    <tr style=\"text-align: right;\">\n",
       "      <th></th>\n",
       "      <th>director</th>\n",
       "      <th>release_date</th>\n",
       "      <th>month</th>\n",
       "    </tr>\n",
       "  </thead>\n",
       "  <tbody>\n",
       "    <tr>\n",
       "      <th>3</th>\n",
       "      <td>J.J. Abrams</td>\n",
       "      <td>2015-12-15</td>\n",
       "      <td>12</td>\n",
       "    </tr>\n",
       "    <tr>\n",
       "      <th>5</th>\n",
       "      <td>Alejandro GonzÃ¡lez IÃ±Ã¡rritu</td>\n",
       "      <td>2015-12-25</td>\n",
       "      <td>12</td>\n",
       "    </tr>\n",
       "    <tr>\n",
       "      <th>11</th>\n",
       "      <td>Lana Wachowski|Lilly Wachowski</td>\n",
       "      <td>2015-02-04</td>\n",
       "      <td>2</td>\n",
       "    </tr>\n",
       "    <tr>\n",
       "      <th>12</th>\n",
       "      <td>Alex Garland</td>\n",
       "      <td>2015-01-21</td>\n",
       "      <td>1</td>\n",
       "    </tr>\n",
       "    <tr>\n",
       "      <th>15</th>\n",
       "      <td>Quentin Tarantino</td>\n",
       "      <td>2015-12-25</td>\n",
       "      <td>12</td>\n",
       "    </tr>\n",
       "    <tr>\n",
       "      <th>...</th>\n",
       "      <td>...</td>\n",
       "      <td>...</td>\n",
       "      <td>...</td>\n",
       "    </tr>\n",
       "    <tr>\n",
       "      <th>1863</th>\n",
       "      <td>Patrick Lussier</td>\n",
       "      <td>2000-12-22</td>\n",
       "      <td>12</td>\n",
       "    </tr>\n",
       "    <tr>\n",
       "      <th>1867</th>\n",
       "      <td>Gus Van Sant</td>\n",
       "      <td>2000-12-21</td>\n",
       "      <td>12</td>\n",
       "    </tr>\n",
       "    <tr>\n",
       "      <th>1872</th>\n",
       "      <td>Walter Hill|Jack Sholder</td>\n",
       "      <td>2000-01-14</td>\n",
       "      <td>1</td>\n",
       "    </tr>\n",
       "    <tr>\n",
       "      <th>1880</th>\n",
       "      <td>Courtney Solomon</td>\n",
       "      <td>2000-12-08</td>\n",
       "      <td>12</td>\n",
       "    </tr>\n",
       "    <tr>\n",
       "      <th>1887</th>\n",
       "      <td>Diane Keaton</td>\n",
       "      <td>2000-02-16</td>\n",
       "      <td>2</td>\n",
       "    </tr>\n",
       "  </tbody>\n",
       "</table>\n",
       "<p>435 rows × 3 columns</p>\n",
       "</div>"
      ],
      "text/plain": [
       "                            director release_date  month\n",
       "3                        J.J. Abrams   2015-12-15     12\n",
       "5     Alejandro GonzÃ¡lez IÃ±Ã¡rritu   2015-12-25     12\n",
       "11    Lana Wachowski|Lilly Wachowski   2015-02-04      2\n",
       "12                      Alex Garland   2015-01-21      1\n",
       "15                 Quentin Tarantino   2015-12-25     12\n",
       "...                              ...          ...    ...\n",
       "1863                 Patrick Lussier   2000-12-22     12\n",
       "1867                    Gus Van Sant   2000-12-21     12\n",
       "1872        Walter Hill|Jack Sholder   2000-01-14      1\n",
       "1880                Courtney Solomon   2000-12-08     12\n",
       "1887                    Diane Keaton   2000-02-16      2\n",
       "\n",
       "[435 rows x 3 columns]"
      ]
     },
     "execution_count": 36,
     "metadata": {},
     "output_type": "execute_result"
    }
   ],
   "source": [
    "winter=data23[(data23['month']==1)|(data23['month']==2)|(data23['month']==12)]\n",
    "winter"
   ]
  },
  {
   "cell_type": "code",
   "execution_count": 37,
   "metadata": {},
   "outputs": [
    {
     "data": {
      "text/plain": [
       "Peter Jackson         7\n",
       "Steven Soderbergh     6\n",
       "Clint Eastwood        6\n",
       "Shawn Levy            4\n",
       "Nancy Meyers          4\n",
       "                     ..\n",
       "Tom Gormican          1\n",
       "Scott Derrickson      1\n",
       "Carl Rinsch           1\n",
       "John Boorman          1\n",
       "John Frankenheimer    1\n",
       "Name: director, Length: 358, dtype: int64"
      ]
     },
     "execution_count": 37,
     "metadata": {},
     "output_type": "execute_result"
    }
   ],
   "source": [
    "iteratio(winter['director'])"
   ]
  },
  {
   "cell_type": "markdown",
   "metadata": {
    "colab_type": "text",
    "id": "RBo0JVjVVqAF"
   },
   "source": [
    "# 24. Какая студия дает самые длинные названия своим фильмам по количеству символов?"
   ]
  },
  {
   "cell_type": "code",
   "execution_count": 32,
   "metadata": {
    "colab": {},
    "colab_type": "code",
    "id": "QRGS8L0iVqAG"
   },
   "outputs": [],
   "source": [
    "data24=data.drop(['revenue','director','release_date','cast','imdb_id','genres','budget','tagline','overview','runtime','vote_average','release_year','profit'],axis=1)"
   ]
  },
  {
   "cell_type": "code",
   "execution_count": 33,
   "metadata": {},
   "outputs": [
    {
     "data": {
      "text/html": [
       "<div>\n",
       "<style scoped>\n",
       "    .dataframe tbody tr th:only-of-type {\n",
       "        vertical-align: middle;\n",
       "    }\n",
       "\n",
       "    .dataframe tbody tr th {\n",
       "        vertical-align: top;\n",
       "    }\n",
       "\n",
       "    .dataframe thead th {\n",
       "        text-align: right;\n",
       "    }\n",
       "</style>\n",
       "<table border=\"1\" class=\"dataframe\">\n",
       "  <thead>\n",
       "    <tr style=\"text-align: right;\">\n",
       "      <th></th>\n",
       "      <th>original_title</th>\n",
       "      <th>production_companies</th>\n",
       "      <th>overview_words_length</th>\n",
       "      <th>len_symbol</th>\n",
       "    </tr>\n",
       "  </thead>\n",
       "  <tbody>\n",
       "    <tr>\n",
       "      <th>0</th>\n",
       "      <td>Jurassic World</td>\n",
       "      <td>Universal Studios|Amblin Entertainment|Legenda...</td>\n",
       "      <td>26</td>\n",
       "      <td>14</td>\n",
       "    </tr>\n",
       "    <tr>\n",
       "      <th>1</th>\n",
       "      <td>Mad Max: Fury Road</td>\n",
       "      <td>Village Roadshow Pictures|Kennedy Miller Produ...</td>\n",
       "      <td>110</td>\n",
       "      <td>18</td>\n",
       "    </tr>\n",
       "    <tr>\n",
       "      <th>2</th>\n",
       "      <td>Insurgent</td>\n",
       "      <td>Summit Entertainment|Mandeville Films|Red Wago...</td>\n",
       "      <td>22</td>\n",
       "      <td>9</td>\n",
       "    </tr>\n",
       "    <tr>\n",
       "      <th>3</th>\n",
       "      <td>Star Wars: The Force Awakens</td>\n",
       "      <td>Lucasfilm|Truenorth Productions|Bad Robot</td>\n",
       "      <td>26</td>\n",
       "      <td>28</td>\n",
       "    </tr>\n",
       "    <tr>\n",
       "      <th>4</th>\n",
       "      <td>Furious 7</td>\n",
       "      <td>Universal Pictures|Original Film|Media Rights ...</td>\n",
       "      <td>14</td>\n",
       "      <td>9</td>\n",
       "    </tr>\n",
       "    <tr>\n",
       "      <th>...</th>\n",
       "      <td>...</td>\n",
       "      <td>...</td>\n",
       "      <td>...</td>\n",
       "      <td>...</td>\n",
       "    </tr>\n",
       "    <tr>\n",
       "      <th>1884</th>\n",
       "      <td>X-Men</td>\n",
       "      <td>Twentieth Century Fox Film Corporation|Donners...</td>\n",
       "      <td>27</td>\n",
       "      <td>5</td>\n",
       "    </tr>\n",
       "    <tr>\n",
       "      <th>1885</th>\n",
       "      <td>The Little Vampire</td>\n",
       "      <td>New Line Cinema</td>\n",
       "      <td>75</td>\n",
       "      <td>18</td>\n",
       "    </tr>\n",
       "    <tr>\n",
       "      <th>1886</th>\n",
       "      <td>The Adventures of Rocky &amp; Bullwinkle</td>\n",
       "      <td>Universal Pictures|Capella International|KC Me...</td>\n",
       "      <td>58</td>\n",
       "      <td>36</td>\n",
       "    </tr>\n",
       "    <tr>\n",
       "      <th>1887</th>\n",
       "      <td>Hanging Up</td>\n",
       "      <td>Laurence Mark Productions|Columbia Pictures Co...</td>\n",
       "      <td>24</td>\n",
       "      <td>10</td>\n",
       "    </tr>\n",
       "    <tr>\n",
       "      <th>1888</th>\n",
       "      <td>The In Crowd</td>\n",
       "      <td>Warner Bros. Pictures</td>\n",
       "      <td>43</td>\n",
       "      <td>12</td>\n",
       "    </tr>\n",
       "  </tbody>\n",
       "</table>\n",
       "<p>1889 rows × 4 columns</p>\n",
       "</div>"
      ],
      "text/plain": [
       "                            original_title  \\\n",
       "0                           Jurassic World   \n",
       "1                       Mad Max: Fury Road   \n",
       "2                                Insurgent   \n",
       "3             Star Wars: The Force Awakens   \n",
       "4                                Furious 7   \n",
       "...                                    ...   \n",
       "1884                                 X-Men   \n",
       "1885                    The Little Vampire   \n",
       "1886  The Adventures of Rocky & Bullwinkle   \n",
       "1887                            Hanging Up   \n",
       "1888                          The In Crowd   \n",
       "\n",
       "                                   production_companies  \\\n",
       "0     Universal Studios|Amblin Entertainment|Legenda...   \n",
       "1     Village Roadshow Pictures|Kennedy Miller Produ...   \n",
       "2     Summit Entertainment|Mandeville Films|Red Wago...   \n",
       "3             Lucasfilm|Truenorth Productions|Bad Robot   \n",
       "4     Universal Pictures|Original Film|Media Rights ...   \n",
       "...                                                 ...   \n",
       "1884  Twentieth Century Fox Film Corporation|Donners...   \n",
       "1885                                    New Line Cinema   \n",
       "1886  Universal Pictures|Capella International|KC Me...   \n",
       "1887  Laurence Mark Productions|Columbia Pictures Co...   \n",
       "1888                              Warner Bros. Pictures   \n",
       "\n",
       "      overview_words_length  len_symbol  \n",
       "0                        26          14  \n",
       "1                       110          18  \n",
       "2                        22           9  \n",
       "3                        26          28  \n",
       "4                        14           9  \n",
       "...                     ...         ...  \n",
       "1884                     27           5  \n",
       "1885                     75          18  \n",
       "1886                     58          36  \n",
       "1887                     24          10  \n",
       "1888                     43          12  \n",
       "\n",
       "[1889 rows x 4 columns]"
      ]
     },
     "execution_count": 33,
     "metadata": {},
     "output_type": "execute_result"
    }
   ],
   "source": [
    "data24['len_symbol']=data24.original_title.apply(lambda x:len(x))\n",
    "data24"
   ]
  },
  {
   "cell_type": "code",
   "execution_count": 45,
   "metadata": {},
   "outputs": [],
   "source": [
    "films = pd.Series(data['production_companies'].str.cat(sep='|').split('|')\n",
    "                         ).value_counts(ascending=False)\n",
    "companies = films.copy()-films"
   ]
  },
  {
   "cell_type": "code",
   "execution_count": 47,
   "metadata": {},
   "outputs": [
    {
     "data": {
      "text/html": [
       "<div>\n",
       "<style scoped>\n",
       "    .dataframe tbody tr th:only-of-type {\n",
       "        vertical-align: middle;\n",
       "    }\n",
       "\n",
       "    .dataframe tbody tr th {\n",
       "        vertical-align: top;\n",
       "    }\n",
       "\n",
       "    .dataframe thead th {\n",
       "        text-align: right;\n",
       "    }\n",
       "</style>\n",
       "<table border=\"1\" class=\"dataframe\">\n",
       "  <thead>\n",
       "    <tr style=\"text-align: right;\">\n",
       "      <th></th>\n",
       "      <th>0</th>\n",
       "    </tr>\n",
       "  </thead>\n",
       "  <tbody>\n",
       "    <tr>\n",
       "      <th>Four By Two Productions</th>\n",
       "      <td>83</td>\n",
       "    </tr>\n",
       "    <tr>\n",
       "      <th>Jim Henson Company, The</th>\n",
       "      <td>59</td>\n",
       "    </tr>\n",
       "    <tr>\n",
       "      <th>Dos Corazones</th>\n",
       "      <td>47</td>\n",
       "    </tr>\n",
       "    <tr>\n",
       "      <th>Museum Canada Productions</th>\n",
       "      <td>46</td>\n",
       "    </tr>\n",
       "    <tr>\n",
       "      <th>Polsky Films</th>\n",
       "      <td>46</td>\n",
       "    </tr>\n",
       "    <tr>\n",
       "      <th>...</th>\n",
       "      <td>...</td>\n",
       "    </tr>\n",
       "    <tr>\n",
       "      <th>Berlanti Productions</th>\n",
       "      <td>3</td>\n",
       "    </tr>\n",
       "    <tr>\n",
       "      <th>Everest Entertainment</th>\n",
       "      <td>3</td>\n",
       "    </tr>\n",
       "    <tr>\n",
       "      <th>Ixtlan Productions</th>\n",
       "      <td>2</td>\n",
       "    </tr>\n",
       "    <tr>\n",
       "      <th>XM2 Productions</th>\n",
       "      <td>2</td>\n",
       "    </tr>\n",
       "    <tr>\n",
       "      <th>Global Entertainment Group</th>\n",
       "      <td>2</td>\n",
       "    </tr>\n",
       "  </tbody>\n",
       "</table>\n",
       "<p>1771 rows × 1 columns</p>\n",
       "</div>"
      ],
      "text/plain": [
       "                             0\n",
       "Four By Two Productions     83\n",
       "Jim Henson Company, The     59\n",
       "Dos Corazones               47\n",
       "Museum Canada Productions   46\n",
       "Polsky Films                46\n",
       "...                         ..\n",
       "Berlanti Productions         3\n",
       "Everest Entertainment        3\n",
       "Ixtlan Productions           2\n",
       "XM2 Productions              2\n",
       "Global Entertainment Group   2\n",
       "\n",
       "[1771 rows x 1 columns]"
      ]
     },
     "execution_count": 47,
     "metadata": {},
     "output_type": "execute_result"
    }
   ],
   "source": [
    "for company in films.index:\n",
    "    films[company] = data24['len_symbol'][data24['production_companies'].map(lambda x: True if company in x else False)].mean()\n",
    "pd.DataFrame(films).sort_values(0, ascending=False)"
   ]
  },
  {
   "cell_type": "markdown",
   "metadata": {
    "colab_type": "text",
    "id": "9G0hbvR7VqAK"
   },
   "source": [
    "# 25. Описание фильмов какой студии в среднем самые длинные по количеству слов?"
   ]
  },
  {
   "cell_type": "code",
   "execution_count": 55,
   "metadata": {
    "colab": {},
    "colab_type": "code",
    "id": "Ge2GsLNxVqAK"
   },
   "outputs": [
    {
     "data": {
      "text/html": [
       "<div>\n",
       "<style scoped>\n",
       "    .dataframe tbody tr th:only-of-type {\n",
       "        vertical-align: middle;\n",
       "    }\n",
       "\n",
       "    .dataframe tbody tr th {\n",
       "        vertical-align: top;\n",
       "    }\n",
       "\n",
       "    .dataframe thead th {\n",
       "        text-align: right;\n",
       "    }\n",
       "</style>\n",
       "<table border=\"1\" class=\"dataframe\">\n",
       "  <thead>\n",
       "    <tr style=\"text-align: right;\">\n",
       "      <th></th>\n",
       "      <th>0</th>\n",
       "      <th>Midnight Picture Show</th>\n",
       "      <th>Room 9 Entertainment</th>\n",
       "      <th>Heineken Branded Entertainment</th>\n",
       "      <th>98 MPH Productions</th>\n",
       "      <th>Brookwell-McNamara Entertainment</th>\n",
       "      <th>Lions Gate Family Entertainment</th>\n",
       "      <th>Crest Animation Productions</th>\n",
       "      <th>Art Pictures Studio</th>\n",
       "      <th>Cinema Gypsy Productions</th>\n",
       "      <th>...</th>\n",
       "      <th>Art In Motion</th>\n",
       "      <th>Our Stories Films</th>\n",
       "      <th>Henceforth</th>\n",
       "      <th>TDJ Enterprises / New Dimensions Entertainment</th>\n",
       "      <th>London Boulevard</th>\n",
       "      <th>Projection Pictures</th>\n",
       "      <th>Sony Pictures Worldwide Acquisitions (SPWA)</th>\n",
       "      <th>Phantom Four</th>\n",
       "      <th>Motion Picture Corporation of America</th>\n",
       "      <th>Empire Pictures</th>\n",
       "    </tr>\n",
       "  </thead>\n",
       "  <tbody>\n",
       "    <tr>\n",
       "      <th>Midnight Picture Show</th>\n",
       "      <td>175</td>\n",
       "      <td>175.0</td>\n",
       "      <td>161.0</td>\n",
       "      <td>161.0</td>\n",
       "      <td>159.0</td>\n",
       "      <td>156.0</td>\n",
       "      <td>152.0</td>\n",
       "      <td>152.0</td>\n",
       "      <td>147.0</td>\n",
       "      <td>144.0</td>\n",
       "      <td>...</td>\n",
       "      <td>15.0</td>\n",
       "      <td>13.0</td>\n",
       "      <td>13.0</td>\n",
       "      <td>13.0</td>\n",
       "      <td>13.0</td>\n",
       "      <td>13.0</td>\n",
       "      <td>13.0</td>\n",
       "      <td>13.0</td>\n",
       "      <td>11.0</td>\n",
       "      <td>11.0</td>\n",
       "    </tr>\n",
       "  </tbody>\n",
       "</table>\n",
       "<p>1 rows × 1772 columns</p>\n",
       "</div>"
      ],
      "text/plain": [
       "                         0  Midnight Picture Show  Room 9 Entertainment  \\\n",
       "Midnight Picture Show  175                  175.0                 161.0   \n",
       "\n",
       "                       Heineken Branded Entertainment  98 MPH Productions  \\\n",
       "Midnight Picture Show                           161.0               159.0   \n",
       "\n",
       "                       Brookwell-McNamara Entertainment  \\\n",
       "Midnight Picture Show                             156.0   \n",
       "\n",
       "                       Lions Gate Family Entertainment  \\\n",
       "Midnight Picture Show                            152.0   \n",
       "\n",
       "                       Crest Animation Productions  Art Pictures Studio  \\\n",
       "Midnight Picture Show                        152.0                147.0   \n",
       "\n",
       "                       Cinema Gypsy Productions  ...  Art In Motion  \\\n",
       "Midnight Picture Show                     144.0  ...           15.0   \n",
       "\n",
       "                       Our Stories Films  Henceforth  \\\n",
       "Midnight Picture Show               13.0        13.0   \n",
       "\n",
       "                       TDJ Enterprises / New Dimensions Entertainment  \\\n",
       "Midnight Picture Show                                            13.0   \n",
       "\n",
       "                       London Boulevard  Projection Pictures  \\\n",
       "Midnight Picture Show              13.0                 13.0   \n",
       "\n",
       "                       Sony Pictures Worldwide Acquisitions (SPWA)  \\\n",
       "Midnight Picture Show                                         13.0   \n",
       "\n",
       "                       Phantom Four  Motion Picture Corporation of America  \\\n",
       "Midnight Picture Show          13.0                                   11.0   \n",
       "\n",
       "                       Empire Pictures  \n",
       "Midnight Picture Show             11.0  \n",
       "\n",
       "[1 rows x 1772 columns]"
      ]
     },
     "execution_count": 55,
     "metadata": {},
     "output_type": "execute_result"
    }
   ],
   "source": [
    "data25=data.drop(['revenue','director','release_date','cast','imdb_id','genres','budget','tagline','original_title','runtime','vote_average','release_year','profit'],axis=1)\n",
    "data25['overview_words_length'] = data25.overview.apply(lambda x: len(x.split(' ')))\n",
    "data25['overview_words_length'] = data25.overview.map(lambda x: len(x.split(' ')))\n",
    "for company in films.index:\n",
    "    films[company] = data25['overview_words_length'][data25['production_companies'].map(lambda x: True if company in x else False)].mean()\n",
    "films = pd.DataFrame(films).sort_values(0, ascending=False).head(1)\n",
    "films"
   ]
  },
  {
   "cell_type": "markdown",
   "metadata": {
    "colab_type": "text",
    "id": "FJ1AFt90VqAP"
   },
   "source": [
    "# 26. Какие фильмы входят в 1 процент лучших по рейтингу? \n",
    "по vote_average"
   ]
  },
  {
   "cell_type": "code",
   "execution_count": 79,
   "metadata": {
    "colab": {},
    "colab_type": "code",
    "id": "8qmJVq4CVqAQ",
    "scrolled": true
   },
   "outputs": [],
   "source": [
    "data26=data.drop(['revenue','director','overview','release_date','cast','imdb_id','genres','budget','tagline','runtime','production_companies','release_year'],axis=1)"
   ]
  },
  {
   "cell_type": "code",
   "execution_count": 80,
   "metadata": {},
   "outputs": [
    {
     "data": {
      "text/html": [
       "<div>\n",
       "<style scoped>\n",
       "    .dataframe tbody tr th:only-of-type {\n",
       "        vertical-align: middle;\n",
       "    }\n",
       "\n",
       "    .dataframe tbody tr th {\n",
       "        vertical-align: top;\n",
       "    }\n",
       "\n",
       "    .dataframe thead th {\n",
       "        text-align: right;\n",
       "    }\n",
       "</style>\n",
       "<table border=\"1\" class=\"dataframe\">\n",
       "  <thead>\n",
       "    <tr style=\"text-align: right;\">\n",
       "      <th></th>\n",
       "      <th>original_title</th>\n",
       "      <th>vote_average</th>\n",
       "    </tr>\n",
       "  </thead>\n",
       "  <tbody>\n",
       "    <tr>\n",
       "      <th>9</th>\n",
       "      <td>Inside Out</td>\n",
       "      <td>8.0</td>\n",
       "    </tr>\n",
       "    <tr>\n",
       "      <th>34</th>\n",
       "      <td>Room</td>\n",
       "      <td>8.0</td>\n",
       "    </tr>\n",
       "    <tr>\n",
       "      <th>118</th>\n",
       "      <td>Interstellar</td>\n",
       "      <td>8.0</td>\n",
       "    </tr>\n",
       "    <tr>\n",
       "      <th>119</th>\n",
       "      <td>Guardians of the Galaxy</td>\n",
       "      <td>7.9</td>\n",
       "    </tr>\n",
       "    <tr>\n",
       "      <th>125</th>\n",
       "      <td>The Imitation Game</td>\n",
       "      <td>8.0</td>\n",
       "    </tr>\n",
       "    <tr>\n",
       "      <th>128</th>\n",
       "      <td>Gone Girl</td>\n",
       "      <td>7.9</td>\n",
       "    </tr>\n",
       "    <tr>\n",
       "      <th>138</th>\n",
       "      <td>The Grand Budapest Hotel</td>\n",
       "      <td>7.9</td>\n",
       "    </tr>\n",
       "    <tr>\n",
       "      <th>370</th>\n",
       "      <td>Inception</td>\n",
       "      <td>7.9</td>\n",
       "    </tr>\n",
       "    <tr>\n",
       "      <th>599</th>\n",
       "      <td>The Dark Knight</td>\n",
       "      <td>8.1</td>\n",
       "    </tr>\n",
       "    <tr>\n",
       "      <th>872</th>\n",
       "      <td>The Pianist</td>\n",
       "      <td>7.9</td>\n",
       "    </tr>\n",
       "    <tr>\n",
       "      <th>1081</th>\n",
       "      <td>The Lord of the Rings: The Return of the King</td>\n",
       "      <td>7.9</td>\n",
       "    </tr>\n",
       "    <tr>\n",
       "      <th>1183</th>\n",
       "      <td>The Wolf of Wall Street</td>\n",
       "      <td>7.9</td>\n",
       "    </tr>\n",
       "    <tr>\n",
       "      <th>1191</th>\n",
       "      <td>12 Years a Slave</td>\n",
       "      <td>7.9</td>\n",
       "    </tr>\n",
       "    <tr>\n",
       "      <th>1800</th>\n",
       "      <td>Memento</td>\n",
       "      <td>7.9</td>\n",
       "    </tr>\n",
       "  </tbody>\n",
       "</table>\n",
       "</div>"
      ],
      "text/plain": [
       "                                     original_title  vote_average\n",
       "9                                        Inside Out           8.0\n",
       "34                                             Room           8.0\n",
       "118                                    Interstellar           8.0\n",
       "119                         Guardians of the Galaxy           7.9\n",
       "125                              The Imitation Game           8.0\n",
       "128                                       Gone Girl           7.9\n",
       "138                        The Grand Budapest Hotel           7.9\n",
       "370                                       Inception           7.9\n",
       "599                                 The Dark Knight           8.1\n",
       "872                                     The Pianist           7.9\n",
       "1081  The Lord of the Rings: The Return of the King           7.9\n",
       "1183                        The Wolf of Wall Street           7.9\n",
       "1191                               12 Years a Slave           7.9\n",
       "1800                                        Memento           7.9"
      ]
     },
     "execution_count": 80,
     "metadata": {},
     "output_type": "execute_result"
    }
   ],
   "source": [
    "data26[data26['vote_average']>np.quantile(data26['vote_average'], q = 0.99, axis = 0)]"
   ]
  },
  {
   "cell_type": "markdown",
   "metadata": {
    "colab_type": "text",
    "id": "MdXsUXbCVqAV"
   },
   "source": [
    "# 27. Какие актеры чаще всего снимаются в одном фильме вместе?\n"
   ]
  },
  {
   "cell_type": "code",
   "execution_count": 27,
   "metadata": {
    "colab": {},
    "colab_type": "code",
    "id": "IfcaRO9-VqAX",
    "outputId": "0f132912-32bb-4196-c98c-abfbc4ad5a5f"
   },
   "outputs": [],
   "source": [
    "data27=data.drop(['revenue','director','overview','release_date','vote_average','imdb_id','genres','budget','tagline','runtime','production_companies','release_year'],axis=1)"
   ]
  },
  {
   "cell_type": "code",
   "execution_count": 18,
   "metadata": {
    "colab": {},
    "colab_type": "code",
    "id": "Vwx3NrkSVqAl"
   },
   "outputs": [
    {
     "data": {
      "text/plain": [
       "[['Bryce Dallas Howard', 'Chris Pratt'],\n",
       " ['Chris Pratt', 'Irrfan Khan'],\n",
       " ['Chris Pratt', \"Vincent D'Onofrio\"],\n",
       " ['Chris Pratt', 'Nick Robinson'],\n",
       " ['Bryce Dallas Howard', 'Irrfan Khan'],\n",
       " ['Bryce Dallas Howard', \"Vincent D'Onofrio\"],\n",
       " ['Bryce Dallas Howard', 'Nick Robinson'],\n",
       " ['Irrfan Khan', \"Vincent D'Onofrio\"],\n",
       " ['Irrfan Khan', 'Nick Robinson'],\n",
       " ['Nick Robinson', \"Vincent D'Onofrio\"],\n",
       " ['Charlize Theron', 'Tom Hardy'],\n",
       " ['Hugh Keays-Byrne', 'Tom Hardy'],\n",
       " ['Nicholas Hoult', 'Tom Hardy'],\n",
       " ['Josh Helman', 'Tom Hardy'],\n",
       " ['Charlize Theron', 'Hugh Keays-Byrne'],\n",
       " ['Charlize Theron', 'Nicholas Hoult'],\n",
       " ['Charlize Theron', 'Josh Helman'],\n",
       " ['Hugh Keays-Byrne', 'Nicholas Hoult'],\n",
       " ['Hugh Keays-Byrne', 'Josh Helman'],\n",
       " ['Josh Helman', 'Nicholas Hoult'],\n",
       " ['Shailene Woodley', 'Theo James'],\n",
       " ['Kate Winslet', 'Shailene Woodley'],\n",
       " ['Ansel Elgort', 'Shailene Woodley'],\n",
       " ['Miles Teller', 'Shailene Woodley'],\n",
       " ['Kate Winslet', 'Theo James'],\n",
       " ['Ansel Elgort', 'Theo James'],\n",
       " ['Miles Teller', 'Theo James'],\n",
       " ['Ansel Elgort', 'Kate Winslet'],\n",
       " ['Kate Winslet', 'Miles Teller'],\n",
       " ['Ansel Elgort', 'Miles Teller'],\n",
       " ['Harrison Ford', 'Mark Hamill'],\n",
       " ['Carrie Fisher', 'Harrison Ford'],\n",
       " ['Adam Driver', 'Harrison Ford'],\n",
       " ['Daisy Ridley', 'Harrison Ford'],\n",
       " ['Carrie Fisher', 'Mark Hamill'],\n",
       " ['Adam Driver', 'Mark Hamill'],\n",
       " ['Daisy Ridley', 'Mark Hamill'],\n",
       " ['Adam Driver', 'Carrie Fisher'],\n",
       " ['Carrie Fisher', 'Daisy Ridley'],\n",
       " ['Adam Driver', 'Daisy Ridley'],\n",
       " ['Paul Walker', 'Vin Diesel'],\n",
       " ['Jason Statham', 'Vin Diesel'],\n",
       " ['Michelle Rodriguez', 'Vin Diesel'],\n",
       " ['Dwayne Johnson', 'Vin Diesel'],\n",
       " ['Jason Statham', 'Paul Walker'],\n",
       " ['Michelle Rodriguez', 'Paul Walker'],\n",
       " ['Dwayne Johnson', 'Paul Walker'],\n",
       " ['Jason Statham', 'Michelle Rodriguez'],\n",
       " ['Dwayne Johnson', 'Jason Statham'],\n",
       " ['Dwayne Johnson', 'Michelle Rodriguez'],\n",
       " ['Leonardo DiCaprio', 'Tom Hardy'],\n",
       " ['Leonardo DiCaprio', 'Will Poulter'],\n",
       " ['Domhnall Gleeson', 'Leonardo DiCaprio'],\n",
       " ['Leonardo DiCaprio', 'Paul Anderson'],\n",
       " ['Tom Hardy', 'Will Poulter'],\n",
       " ['Domhnall Gleeson', 'Tom Hardy'],\n",
       " ['Paul Anderson', 'Tom Hardy'],\n",
       " ['Domhnall Gleeson', 'Will Poulter'],\n",
       " ['Paul Anderson', 'Will Poulter'],\n",
       " ['Domhnall Gleeson', 'Paul Anderson'],\n",
       " ['Arnold Schwarzenegger', 'Jason Clarke'],\n",
       " ['Arnold Schwarzenegger', 'Emilia Clarke'],\n",
       " ['Arnold Schwarzenegger', 'Jai Courtney'],\n",
       " ['Arnold Schwarzenegger', 'J.K. Simmons'],\n",
       " ['Emilia Clarke', 'Jason Clarke'],\n",
       " ['Jai Courtney', 'Jason Clarke'],\n",
       " ['J.K. Simmons', 'Jason Clarke'],\n",
       " ['Emilia Clarke', 'Jai Courtney'],\n",
       " ['Emilia Clarke', 'J.K. Simmons'],\n",
       " ['J.K. Simmons', 'Jai Courtney'],\n",
       " ['Jessica Chastain', 'Matt Damon'],\n",
       " ['Kristen Wiig', 'Matt Damon'],\n",
       " ['Jeff Daniels', 'Matt Damon'],\n",
       " ['Matt Damon', 'Michael PeÃ±a'],\n",
       " ['Jessica Chastain', 'Kristen Wiig'],\n",
       " ['Jeff Daniels', 'Jessica Chastain'],\n",
       " ['Jessica Chastain', 'Michael PeÃ±a'],\n",
       " ['Jeff Daniels', 'Kristen Wiig'],\n",
       " ['Kristen Wiig', 'Michael PeÃ±a'],\n",
       " ['Jeff Daniels', 'Michael PeÃ±a'],\n",
       " ['Jon Hamm', 'Sandra Bullock'],\n",
       " ['Michael Keaton', 'Sandra Bullock'],\n",
       " ['Allison Janney', 'Sandra Bullock'],\n",
       " ['Sandra Bullock', 'Steve Coogan'],\n",
       " ['Jon Hamm', 'Michael Keaton'],\n",
       " ['Allison Janney', 'Jon Hamm'],\n",
       " ['Jon Hamm', 'Steve Coogan'],\n",
       " ['Allison Janney', 'Michael Keaton'],\n",
       " ['Michael Keaton', 'Steve Coogan'],\n",
       " ['Allison Janney', 'Steve Coogan'],\n",
       " ['Amy Poehler', 'Phyllis Smith'],\n",
       " ['Amy Poehler', 'Richard Kind'],\n",
       " ['Amy Poehler', 'Bill Hader'],\n",
       " ['Amy Poehler', 'Lewis Black'],\n",
       " ['Phyllis Smith', 'Richard Kind'],\n",
       " ['Bill Hader', 'Phyllis Smith'],\n",
       " ['Lewis Black', 'Phyllis Smith'],\n",
       " ['Bill Hader', 'Richard Kind'],\n",
       " ['Lewis Black', 'Richard Kind'],\n",
       " ['Bill Hader', 'Lewis Black'],\n",
       " ['Christoph Waltz', 'Daniel Craig'],\n",
       " ['Daniel Craig', 'LÃ©a Seydoux'],\n",
       " ['Daniel Craig', 'Ralph Fiennes'],\n",
       " ['Daniel Craig', 'Monica Bellucci'],\n",
       " ['Christoph Waltz', 'LÃ©a Seydoux'],\n",
       " ['Christoph Waltz', 'Ralph Fiennes'],\n",
       " ['Christoph Waltz', 'Monica Bellucci'],\n",
       " ['LÃ©a Seydoux', 'Ralph Fiennes'],\n",
       " ['LÃ©a Seydoux', 'Monica Bellucci'],\n",
       " ['Monica Bellucci', 'Ralph Fiennes'],\n",
       " ['Channing Tatum', 'Mila Kunis'],\n",
       " ['Mila Kunis', 'Sean Bean'],\n",
       " ['Eddie Redmayne', 'Mila Kunis'],\n",
       " ['Douglas Booth', 'Mila Kunis'],\n",
       " ['Channing Tatum', 'Sean Bean'],\n",
       " ['Channing Tatum', 'Eddie Redmayne'],\n",
       " ['Channing Tatum', 'Douglas Booth'],\n",
       " ['Eddie Redmayne', 'Sean Bean'],\n",
       " ['Douglas Booth', 'Sean Bean'],\n",
       " ['Douglas Booth', 'Eddie Redmayne'],\n",
       " ['Alicia Vikander', 'Domhnall Gleeson'],\n",
       " ['Domhnall Gleeson', 'Oscar Isaac'],\n",
       " ['Domhnall Gleeson', 'Sonoya Mizuno'],\n",
       " ['Corey Johnson', 'Domhnall Gleeson'],\n",
       " ['Alicia Vikander', 'Oscar Isaac'],\n",
       " ['Alicia Vikander', 'Sonoya Mizuno'],\n",
       " ['Alicia Vikander', 'Corey Johnson'],\n",
       " ['Oscar Isaac', 'Sonoya Mizuno'],\n",
       " ['Corey Johnson', 'Oscar Isaac'],\n",
       " ['Corey Johnson', 'Sonoya Mizuno'],\n",
       " ['Adam Sandler', 'Michelle Monaghan'],\n",
       " ['Adam Sandler', 'Peter Dinklage'],\n",
       " ['Adam Sandler', 'Josh Gad'],\n",
       " ['Adam Sandler', 'Kevin James'],\n",
       " ['Michelle Monaghan', 'Peter Dinklage'],\n",
       " ['Josh Gad', 'Michelle Monaghan'],\n",
       " ['Kevin James', 'Michelle Monaghan'],\n",
       " ['Josh Gad', 'Peter Dinklage'],\n",
       " ['Kevin James', 'Peter Dinklage'],\n",
       " ['Josh Gad', 'Kevin James'],\n",
       " ['Chris Hemsworth', 'Robert Downey Jr.'],\n",
       " ['Mark Ruffalo', 'Robert Downey Jr.'],\n",
       " ['Chris Evans', 'Robert Downey Jr.'],\n",
       " ['Robert Downey Jr.', 'Scarlett Johansson'],\n",
       " ['Chris Hemsworth', 'Mark Ruffalo'],\n",
       " ['Chris Evans', 'Chris Hemsworth'],\n",
       " ['Chris Hemsworth', 'Scarlett Johansson'],\n",
       " ['Chris Evans', 'Mark Ruffalo'],\n",
       " ['Mark Ruffalo', 'Scarlett Johansson'],\n",
       " ['Chris Evans', 'Scarlett Johansson'],\n",
       " ['Kurt Russell', 'Samuel L. Jackson'],\n",
       " ['Jennifer Jason Leigh', 'Samuel L. Jackson'],\n",
       " ['Samuel L. Jackson', 'Walton Goggins'],\n",
       " ['DemiÃ¡n Bichir', 'Samuel L. Jackson'],\n",
       " ['Jennifer Jason Leigh', 'Kurt Russell'],\n",
       " ['Kurt Russell', 'Walton Goggins'],\n",
       " ['DemiÃ¡n Bichir', 'Kurt Russell'],\n",
       " ['Jennifer Jason Leigh', 'Walton Goggins'],\n",
       " ['DemiÃ¡n Bichir', 'Jennifer Jason Leigh'],\n",
       " ['DemiÃ¡n Bichir', 'Walton Goggins'],\n",
       " ['Forest Whitaker', 'Liam Neeson'],\n",
       " ['Liam Neeson', 'Maggie Grace'],\n",
       " ['Famke Janssen', 'Liam Neeson'],\n",
       " ['Dougray Scott', 'Liam Neeson'],\n",
       " ['Forest Whitaker', 'Maggie Grace'],\n",
       " ['Famke Janssen', 'Forest Whitaker'],\n",
       " ['Dougray Scott', 'Forest Whitaker'],\n",
       " ['Famke Janssen', 'Maggie Grace'],\n",
       " ['Dougray Scott', 'Maggie Grace'],\n",
       " ['Dougray Scott', 'Famke Janssen'],\n",
       " ['Michael Douglas', 'Paul Rudd'],\n",
       " ['Evangeline Lilly', 'Paul Rudd'],\n",
       " ['Corey Stoll', 'Paul Rudd'],\n",
       " ['Bobby Cannavale', 'Paul Rudd'],\n",
       " ['Evangeline Lilly', 'Michael Douglas'],\n",
       " ['Corey Stoll', 'Michael Douglas'],\n",
       " ['Bobby Cannavale', 'Michael Douglas'],\n",
       " ['Corey Stoll', 'Evangeline Lilly'],\n",
       " ['Bobby Cannavale', 'Evangeline Lilly'],\n",
       " ['Bobby Cannavale', 'Corey Stoll'],\n",
       " ['Cate Blanchett', 'Lily James'],\n",
       " ['Lily James', 'Richard Madden'],\n",
       " ['Helena Bonham Carter', 'Lily James'],\n",
       " ['Holliday Grainger', 'Lily James'],\n",
       " ['Cate Blanchett', 'Richard Madden'],\n",
       " ['Cate Blanchett', 'Helena Bonham Carter'],\n",
       " ['Cate Blanchett', 'Holliday Grainger'],\n",
       " ['Helena Bonham Carter', 'Richard Madden'],\n",
       " ['Holliday Grainger', 'Richard Madden'],\n",
       " ['Helena Bonham Carter', 'Holliday Grainger'],\n",
       " ['Jennifer Lawrence', 'Josh Hutcherson'],\n",
       " ['Jennifer Lawrence', 'Liam Hemsworth'],\n",
       " ['Jennifer Lawrence', 'Woody Harrelson'],\n",
       " ['Elizabeth Banks', 'Jennifer Lawrence'],\n",
       " ['Josh Hutcherson', 'Liam Hemsworth'],\n",
       " ['Josh Hutcherson', 'Woody Harrelson'],\n",
       " ['Elizabeth Banks', 'Josh Hutcherson'],\n",
       " ['Liam Hemsworth', 'Woody Harrelson'],\n",
       " ['Elizabeth Banks', 'Liam Hemsworth'],\n",
       " ['Elizabeth Banks', 'Woody Harrelson'],\n",
       " ['Britt Robertson', 'George Clooney'],\n",
       " ['Britt Robertson', 'Raffey Cassidy'],\n",
       " ['Britt Robertson', 'Thomas Robinson'],\n",
       " ['Britt Robertson', 'Hugh Laurie'],\n",
       " ['George Clooney', 'Raffey Cassidy'],\n",
       " ['George Clooney', 'Thomas Robinson'],\n",
       " ['George Clooney', 'Hugh Laurie'],\n",
       " ['Raffey Cassidy', 'Thomas Robinson'],\n",
       " ['Hugh Laurie', 'Raffey Cassidy'],\n",
       " ['Hugh Laurie', 'Thomas Robinson'],\n",
       " ['Jake Gyllenhaal', 'Rachel McAdams'],\n",
       " ['Forest Whitaker', 'Jake Gyllenhaal'],\n",
       " ['Jake Gyllenhaal', 'Oona Laurence'],\n",
       " ['50 Cent', 'Jake Gyllenhaal'],\n",
       " ['Forest Whitaker', 'Rachel McAdams'],\n",
       " ['Oona Laurence', 'Rachel McAdams'],\n",
       " ['50 Cent', 'Rachel McAdams'],\n",
       " ['Forest Whitaker', 'Oona Laurence'],\n",
       " ['50 Cent', 'Forest Whitaker'],\n",
       " ['50 Cent', 'Oona Laurence'],\n",
       " ['Alexandra Daddario', 'Dwayne Johnson'],\n",
       " ['Carla Gugino', 'Dwayne Johnson'],\n",
       " ['Dwayne Johnson', 'Ioan Gruffudd'],\n",
       " ['Archie Panjabi', 'Dwayne Johnson'],\n",
       " ['Alexandra Daddario', 'Carla Gugino'],\n",
       " ['Alexandra Daddario', 'Ioan Gruffudd'],\n",
       " ['Alexandra Daddario', 'Archie Panjabi'],\n",
       " ['Carla Gugino', 'Ioan Gruffudd'],\n",
       " ['Archie Panjabi', 'Carla Gugino'],\n",
       " ['Archie Panjabi', 'Ioan Gruffudd'],\n",
       " ['Dakota Johnson', 'Jamie Dornan'],\n",
       " ['Dakota Johnson', 'Jennifer Ehle'],\n",
       " ['Dakota Johnson', 'Eloise Mumford'],\n",
       " ['Dakota Johnson', 'Victor Rasuk'],\n",
       " ['Jamie Dornan', 'Jennifer Ehle'],\n",
       " ['Eloise Mumford', 'Jamie Dornan'],\n",
       " ['Jamie Dornan', 'Victor Rasuk'],\n",
       " ['Eloise Mumford', 'Jennifer Ehle'],\n",
       " ['Jennifer Ehle', 'Victor Rasuk'],\n",
       " ['Eloise Mumford', 'Victor Rasuk'],\n",
       " ['Christian Bale', 'Steve Carell'],\n",
       " ['Christian Bale', 'Ryan Gosling'],\n",
       " ['Brad Pitt', 'Christian Bale'],\n",
       " ['Christian Bale', 'Melissa Leo'],\n",
       " ['Ryan Gosling', 'Steve Carell'],\n",
       " ['Brad Pitt', 'Steve Carell'],\n",
       " ['Melissa Leo', 'Steve Carell'],\n",
       " ['Brad Pitt', 'Ryan Gosling'],\n",
       " ['Melissa Leo', 'Ryan Gosling'],\n",
       " ['Brad Pitt', 'Melissa Leo'],\n",
       " ['Jeremy Renner', 'Tom Cruise'],\n",
       " ['Simon Pegg', 'Tom Cruise'],\n",
       " ['Rebecca Ferguson', 'Tom Cruise'],\n",
       " ['Tom Cruise', 'Ving Rhames'],\n",
       " ['Jeremy Renner', 'Simon Pegg'],\n",
       " ['Jeremy Renner', 'Rebecca Ferguson'],\n",
       " ['Jeremy Renner', 'Ving Rhames'],\n",
       " ['Rebecca Ferguson', 'Simon Pegg'],\n",
       " ['Simon Pegg', 'Ving Rhames'],\n",
       " ['Rebecca Ferguson', 'Ving Rhames'],\n",
       " ['Mark Wahlberg', 'Seth MacFarlane'],\n",
       " ['Amanda Seyfried', 'Mark Wahlberg'],\n",
       " ['Jessica Barth', 'Mark Wahlberg'],\n",
       " ['Giovanni Ribisi', 'Mark Wahlberg'],\n",
       " ['Amanda Seyfried', 'Seth MacFarlane'],\n",
       " ['Jessica Barth', 'Seth MacFarlane'],\n",
       " ['Giovanni Ribisi', 'Seth MacFarlane'],\n",
       " ['Amanda Seyfried', 'Jessica Barth'],\n",
       " ['Amanda Seyfried', 'Giovanni Ribisi'],\n",
       " ['Giovanni Ribisi', 'Jessica Barth'],\n",
       " ['Colin Firth', 'Taron Egerton'],\n",
       " ['Samuel L. Jackson', 'Taron Egerton'],\n",
       " ['Michael Caine', 'Taron Egerton'],\n",
       " ['Mark Strong', 'Taron Egerton'],\n",
       " ['Colin Firth', 'Samuel L. Jackson'],\n",
       " ['Colin Firth', 'Michael Caine'],\n",
       " ['Colin Firth', 'Mark Strong'],\n",
       " ['Michael Caine', 'Samuel L. Jackson'],\n",
       " ['Mark Strong', 'Samuel L. Jackson'],\n",
       " ['Mark Strong', 'Michael Caine'],\n",
       " ['Mark Ruffalo', 'Michael Keaton'],\n",
       " ['Mark Ruffalo', 'Rachel McAdams'],\n",
       " ['Liev Schreiber', 'Mark Ruffalo'],\n",
       " ['John Slattery', 'Mark Ruffalo'],\n",
       " ['Michael Keaton', 'Rachel McAdams'],\n",
       " ['Liev Schreiber', 'Michael Keaton'],\n",
       " ['John Slattery', 'Michael Keaton'],\n",
       " ['Liev Schreiber', 'Rachel McAdams'],\n",
       " ['John Slattery', 'Rachel McAdams'],\n",
       " ['John Slattery', 'Liev Schreiber'],\n",
       " [\"Dylan O'Brien\", 'Kaya Scodelario'],\n",
       " [\"Dylan O'Brien\", 'Thomas Brodie-Sangster'],\n",
       " [\"Dylan O'Brien\", 'Giancarlo Esposito'],\n",
       " ['Aidan Gillen', \"Dylan O'Brien\"],\n",
       " ['Kaya Scodelario', 'Thomas Brodie-Sangster'],\n",
       " ['Giancarlo Esposito', 'Kaya Scodelario'],\n",
       " ['Aidan Gillen', 'Kaya Scodelario'],\n",
       " ['Giancarlo Esposito', 'Thomas Brodie-Sangster'],\n",
       " ['Aidan Gillen', 'Thomas Brodie-Sangster'],\n",
       " ['Aidan Gillen', 'Giancarlo Esposito'],\n",
       " ['Dev Patel', 'Sharlto Copley'],\n",
       " ['Ninja', 'Sharlto Copley'],\n",
       " ['Sharlto Copley', 'Yolandi Visser'],\n",
       " ['Jose Pablo Cantillo', 'Sharlto Copley'],\n",
       " ['Dev Patel', 'Ninja'],\n",
       " ['Dev Patel', 'Yolandi Visser'],\n",
       " ['Dev Patel', 'Jose Pablo Cantillo'],\n",
       " ['Ninja', 'Yolandi Visser'],\n",
       " ['Jose Pablo Cantillo', 'Ninja'],\n",
       " ['Jose Pablo Cantillo', 'Yolandi Visser'],\n",
       " ['Anna Kendrick', 'Rebel Wilson'],\n",
       " ['Anna Kendrick', 'Hailee Steinfeld'],\n",
       " ['Anna Kendrick', 'Brittany Snow'],\n",
       " ['Anna Kendrick', 'Skylar Astin'],\n",
       " ['Hailee Steinfeld', 'Rebel Wilson'],\n",
       " ['Brittany Snow', 'Rebel Wilson'],\n",
       " ['Rebel Wilson', 'Skylar Astin'],\n",
       " ['Brittany Snow', 'Hailee Steinfeld'],\n",
       " ['Hailee Steinfeld', 'Skylar Astin'],\n",
       " ['Brittany Snow', 'Skylar Astin'],\n",
       " ['Mark Rylance', 'Tom Hanks'],\n",
       " ['Amy Ryan', 'Tom Hanks'],\n",
       " ['Alan Alda', 'Tom Hanks'],\n",
       " ['Sebastian Koch', 'Tom Hanks'],\n",
       " ['Amy Ryan', 'Mark Rylance'],\n",
       " ['Alan Alda', 'Mark Rylance'],\n",
       " ['Mark Rylance', 'Sebastian Koch'],\n",
       " ['Alan Alda', 'Amy Ryan'],\n",
       " ['Amy Ryan', 'Sebastian Koch'],\n",
       " ['Alan Alda', 'Sebastian Koch'],\n",
       " ['Dylan Minnette', 'Jack Black'],\n",
       " ['Jack Black', 'Odeya Rush'],\n",
       " ['Amy Ryan', 'Jack Black'],\n",
       " ['Jack Black', 'Jillian Bell'],\n",
       " ['Dylan Minnette', 'Odeya Rush'],\n",
       " ['Amy Ryan', 'Dylan Minnette'],\n",
       " ['Dylan Minnette', 'Jillian Bell'],\n",
       " ['Amy Ryan', 'Odeya Rush'],\n",
       " ['Jillian Bell', 'Odeya Rush'],\n",
       " ['Amy Ryan', 'Jillian Bell'],\n",
       " ['Brie Larson', 'Jacob Tremblay'],\n",
       " ['Brie Larson', 'Joan Allen'],\n",
       " ['Brie Larson', 'Sean Bridgers'],\n",
       " ['Brie Larson', 'William H. Macy'],\n",
       " ['Jacob Tremblay', 'Joan Allen'],\n",
       " ['Jacob Tremblay', 'Sean Bridgers'],\n",
       " ['Jacob Tremblay', 'William H. Macy'],\n",
       " ['Joan Allen', 'Sean Bridgers'],\n",
       " ['Joan Allen', 'William H. Macy'],\n",
       " ['Sean Bridgers', 'William H. Macy'],\n",
       " ['Jack Bright', 'Raymond Ochoa'],\n",
       " ['Jeffrey Wright', 'Raymond Ochoa'],\n",
       " ['Frances McDormand', 'Raymond Ochoa'],\n",
       " ['Maleah Nipay-Padilla', 'Raymond Ochoa'],\n",
       " ['Jack Bright', 'Jeffrey Wright'],\n",
       " ['Frances McDormand', 'Jack Bright'],\n",
       " ['Jack Bright', 'Maleah Nipay-Padilla'],\n",
       " ['Frances McDormand', 'Jeffrey Wright'],\n",
       " ['Jeffrey Wright', 'Maleah Nipay-Padilla'],\n",
       " ['Frances McDormand', 'Maleah Nipay-Padilla'],\n",
       " ['Ed Harris', 'Liam Neeson'],\n",
       " ['Joel Kinnaman', 'Liam Neeson'],\n",
       " ['Boyd Holbrook', 'Liam Neeson'],\n",
       " ['Bruce McGill', 'Liam Neeson'],\n",
       " ['Ed Harris', 'Joel Kinnaman'],\n",
       " ['Boyd Holbrook', 'Ed Harris'],\n",
       " ['Bruce McGill', 'Ed Harris'],\n",
       " ['Boyd Holbrook', 'Joel Kinnaman'],\n",
       " ['Bruce McGill', 'Joel Kinnaman'],\n",
       " ['Boyd Holbrook', 'Bruce McGill'],\n",
       " ['Domhnall Gleeson', 'Saoirse Ronan'],\n",
       " ['Emory Cohen', 'Saoirse Ronan'],\n",
       " ['Emily Bett Rickards', 'Saoirse Ronan'],\n",
       " [\"Eileen O'Higgins\", 'Saoirse Ronan'],\n",
       " ['Domhnall Gleeson', 'Emory Cohen'],\n",
       " ['Domhnall Gleeson', 'Emily Bett Rickards'],\n",
       " ['Domhnall Gleeson', \"Eileen O'Higgins\"],\n",
       " ['Emily Bett Rickards', 'Emory Cohen'],\n",
       " [\"Eileen O'Higgins\", 'Emory Cohen'],\n",
       " [\"Eileen O'Higgins\", 'Emily Bett Rickards'],\n",
       " ['Corey Hawkins', \"O'Shea Jackson Jr.\"],\n",
       " ['Jason Mitchell', \"O'Shea Jackson Jr.\"],\n",
       " ['Neil Brown Jr.', \"O'Shea Jackson Jr.\"],\n",
       " ['Aldis Hodge', \"O'Shea Jackson Jr.\"],\n",
       " ['Corey Hawkins', 'Jason Mitchell'],\n",
       " ['Corey Hawkins', 'Neil Brown Jr.'],\n",
       " ['Aldis Hodge', 'Corey Hawkins'],\n",
       " ['Jason Mitchell', 'Neil Brown Jr.'],\n",
       " ['Aldis Hodge', 'Jason Mitchell'],\n",
       " ['Aldis Hodge', 'Neil Brown Jr.'],\n",
       " ['Rose Leslie', 'Vin Diesel'],\n",
       " ['Michael Caine', 'Vin Diesel'],\n",
       " ['Elijah Wood', 'Vin Diesel'],\n",
       " ['Vin Diesel', 'Ã“lafur Darri Ã“lafsson'],\n",
       " ['Michael Caine', 'Rose Leslie'],\n",
       " ['Elijah Wood', 'Rose Leslie'],\n",
       " ['Rose Leslie', 'Ã“lafur Darri Ã“lafsson'],\n",
       " ['Elijah Wood', 'Michael Caine'],\n",
       " ['Michael Caine', 'Ã“lafur Darri Ã“lafsson'],\n",
       " ['Elijah Wood', 'Ã“lafur Darri Ã“lafsson'],\n",
       " ['Armie Hammer', 'Henry Cavill'],\n",
       " ['Alicia Vikander', 'Henry Cavill'],\n",
       " ['Elizabeth Debicki', 'Henry Cavill'],\n",
       " ['Henry Cavill', 'Luca Calvani'],\n",
       " ['Alicia Vikander', 'Armie Hammer'],\n",
       " ['Armie Hammer', 'Elizabeth Debicki'],\n",
       " ['Armie Hammer', 'Luca Calvani'],\n",
       " ['Alicia Vikander', 'Elizabeth Debicki'],\n",
       " ['Alicia Vikander', 'Luca Calvani'],\n",
       " ['Elizabeth Debicki', 'Luca Calvani'],\n",
       " ['Blake Lively', 'Michiel Huisman'],\n",
       " ['Blake Lively', 'Harrison Ford'],\n",
       " ['Blake Lively', 'Ellen Burstyn'],\n",
       " ['Blake Lively', 'Kathy Baker'],\n",
       " ['Harrison Ford', 'Michiel Huisman'],\n",
       " ['Ellen Burstyn', 'Michiel Huisman'],\n",
       " ['Kathy Baker', 'Michiel Huisman'],\n",
       " ['Ellen Burstyn', 'Harrison Ford'],\n",
       " ['Harrison Ford', 'Kathy Baker'],\n",
       " ['Ellen Burstyn', 'Kathy Baker'],\n",
       " ['Haley Bennett', 'Sharlto Copley'],\n",
       " ['Danila Kozlovskiy', 'Sharlto Copley'],\n",
       " ['Sharlto Copley', 'Tim Roth'],\n",
       " ['Andrei Dementiev', 'Sharlto Copley'],\n",
       " ['Danila Kozlovskiy', 'Haley Bennett'],\n",
       " ['Haley Bennett', 'Tim Roth'],\n",
       " ['Andrei Dementiev', 'Haley Bennett'],\n",
       " ['Danila Kozlovskiy', 'Tim Roth'],\n",
       " ['Andrei Dementiev', 'Danila Kozlovskiy'],\n",
       " ['Andrei Dementiev', 'Tim Roth'],\n",
       " ['Jim Parsons', 'Rihanna'],\n",
       " ['Jim Parsons', 'Steve Martin'],\n",
       " ['Jennifer Lopez', 'Jim Parsons'],\n",
       " ['Jim Parsons', 'Matt Jones'],\n",
       " ['Rihanna', 'Steve Martin'],\n",
       " ['Jennifer Lopez', 'Rihanna'],\n",
       " ['Matt Jones', 'Rihanna'],\n",
       " ['Jennifer Lopez', 'Steve Martin'],\n",
       " ['Matt Jones', 'Steve Martin'],\n",
       " ['Jennifer Lopez', 'Matt Jones'],\n",
       " ['Cara Delevingne', 'Nat Wolff'],\n",
       " ['Halston Sage', 'Nat Wolff'],\n",
       " ['Justice Smith', 'Nat Wolff'],\n",
       " ['Austin Abrams', 'Nat Wolff'],\n",
       " ['Cara Delevingne', 'Halston Sage'],\n",
       " ['Cara Delevingne', 'Justice Smith'],\n",
       " ['Austin Abrams', 'Cara Delevingne'],\n",
       " ['Halston Sage', 'Justice Smith'],\n",
       " ['Austin Abrams', 'Halston Sage'],\n",
       " ['Austin Abrams', 'Justice Smith'],\n",
       " ['Cate Blanchett', 'Rooney Mara'],\n",
       " ['Cate Blanchett', 'Kyle Chandler'],\n",
       " ['Cate Blanchett', 'Sarah Paulson'],\n",
       " ['Cate Blanchett', 'Jake Lacy'],\n",
       " ['Kyle Chandler', 'Rooney Mara'],\n",
       " ['Rooney Mara', 'Sarah Paulson'],\n",
       " ['Jake Lacy', 'Rooney Mara'],\n",
       " ['Kyle Chandler', 'Sarah Paulson'],\n",
       " ['Jake Lacy', 'Kyle Chandler'],\n",
       " ['Jake Lacy', 'Sarah Paulson'],\n",
       " ['Anne Hathaway', 'Robert De Niro'],\n",
       " ['Rene Russo', 'Robert De Niro'],\n",
       " ['Anders Holm', 'Robert De Niro'],\n",
       " ['JoJo Kushner', 'Robert De Niro'],\n",
       " ['Anne Hathaway', 'Rene Russo'],\n",
       " ['Anders Holm', 'Anne Hathaway'],\n",
       " ['Anne Hathaway', 'JoJo Kushner'],\n",
       " ['Anders Holm', 'Rene Russo'],\n",
       " ['JoJo Kushner', 'Rene Russo'],\n",
       " ['Anders Holm', 'JoJo Kushner'],\n",
       " ['Jake Gyllenhaal', 'Jason Clarke'],\n",
       " ['Jason Clarke', 'Josh Brolin'],\n",
       " ['Jason Clarke', 'John Hawkes'],\n",
       " ['Jason Clarke', 'Sam Worthington'],\n",
       " ['Jake Gyllenhaal', 'Josh Brolin'],\n",
       " ['Jake Gyllenhaal', 'John Hawkes'],\n",
       " ['Jake Gyllenhaal', 'Sam Worthington'],\n",
       " ['John Hawkes', 'Josh Brolin'],\n",
       " ['Josh Brolin', 'Sam Worthington'],\n",
       " ['John Hawkes', 'Sam Worthington'],\n",
       " ['Edgar RamÃ\\xadrez', 'Luke Bracey'],\n",
       " ['Edgar RamÃ\\xadrez', 'Teresa Palmer'],\n",
       " ['Delroy Lindo', 'Edgar RamÃ\\xadrez'],\n",
       " ['Edgar RamÃ\\xadrez', 'Ray Winstone'],\n",
       " ['Luke Bracey', 'Teresa Palmer'],\n",
       " ['Delroy Lindo', 'Luke Bracey'],\n",
       " ['Luke Bracey', 'Ray Winstone'],\n",
       " ['Delroy Lindo', 'Teresa Palmer'],\n",
       " ['Ray Winstone', 'Teresa Palmer'],\n",
       " ['Delroy Lindo', 'Ray Winstone'],\n",
       " ['Bradley Cooper', 'Sienna Miller'],\n",
       " ['Bradley Cooper', 'Lily James'],\n",
       " ['Alicia Vikander', 'Bradley Cooper'],\n",
       " ['Bradley Cooper', 'Uma Thurman'],\n",
       " ['Lily James', 'Sienna Miller'],\n",
       " ['Alicia Vikander', 'Sienna Miller'],\n",
       " ['Sienna Miller', 'Uma Thurman'],\n",
       " ['Alicia Vikander', 'Lily James'],\n",
       " ['Lily James', 'Uma Thurman'],\n",
       " ['Alicia Vikander', 'Uma Thurman'],\n",
       " ['Ben Kingsley', 'Ryan Reynolds'],\n",
       " ['Natalie Martinez', 'Ryan Reynolds'],\n",
       " ['Matthew Goode', 'Ryan Reynolds'],\n",
       " ['Michelle Dockery', 'Ryan Reynolds'],\n",
       " ['Ben Kingsley', 'Natalie Martinez'],\n",
       " ['Ben Kingsley', 'Matthew Goode'],\n",
       " ['Ben Kingsley', 'Michelle Dockery'],\n",
       " ['Matthew Goode', 'Natalie Martinez'],\n",
       " ['Michelle Dockery', 'Natalie Martinez'],\n",
       " ['Matthew Goode', 'Michelle Dockery'],\n",
       " ['Gwyneth Paltrow', 'Johnny Depp'],\n",
       " ['Ewan McGregor', 'Johnny Depp'],\n",
       " ['Johnny Depp', 'Paul Bettany'],\n",
       " ['Johnny Depp', 'Olivia Munn'],\n",
       " ['Ewan McGregor', 'Gwyneth Paltrow'],\n",
       " ['Gwyneth Paltrow', 'Paul Bettany'],\n",
       " ['Gwyneth Paltrow', 'Olivia Munn'],\n",
       " ['Ewan McGregor', 'Paul Bettany'],\n",
       " ['Ewan McGregor', 'Olivia Munn'],\n",
       " ['Olivia Munn', 'Paul Bettany'],\n",
       " ['Alicia Vikander', 'Eddie Redmayne'],\n",
       " ['Eddie Redmayne', 'Matthias Schoenaerts'],\n",
       " ['Amber Heard', 'Eddie Redmayne'],\n",
       " ['Ben Whishaw', 'Eddie Redmayne'],\n",
       " ['Alicia Vikander', 'Matthias Schoenaerts'],\n",
       " ['Alicia Vikander', 'Amber Heard'],\n",
       " ['Alicia Vikander', 'Ben Whishaw'],\n",
       " ['Amber Heard', 'Matthias Schoenaerts'],\n",
       " ['Ben Whishaw', 'Matthias Schoenaerts'],\n",
       " ['Amber Heard', 'Ben Whishaw'],\n",
       " ['Chris Hemsworth', 'Leehom Wang'],\n",
       " ['Chris Hemsworth', 'Tang Wei'],\n",
       " ['Chris Hemsworth', 'Viola Davis'],\n",
       " ['Chris Hemsworth', 'Holt McCallany'],\n",
       " ['Leehom Wang', 'Tang Wei'],\n",
       " ['Leehom Wang', 'Viola Davis'],\n",
       " ['Holt McCallany', 'Leehom Wang'],\n",
       " ['Tang Wei', 'Viola Davis'],\n",
       " ['Holt McCallany', 'Tang Wei'],\n",
       " ['Holt McCallany', 'Viola Davis'],\n",
       " ['Benicio del Toro', 'Emily Blunt'],\n",
       " ['Emily Blunt', 'Josh Brolin'],\n",
       " ['Emily Blunt', 'Victor Garber'],\n",
       " ['Emily Blunt', 'Jon Bernthal'],\n",
       " ['Benicio del Toro', 'Josh Brolin'],\n",
       " ['Benicio del Toro', 'Victor Garber'],\n",
       " ['Benicio del Toro', 'Jon Bernthal'],\n",
       " ['Josh Brolin', 'Victor Garber'],\n",
       " ['Jon Bernthal', 'Josh Brolin'],\n",
       " ['Jon Bernthal', 'Victor Garber'],\n",
       " ['Kate Mara', 'Miles Teller'],\n",
       " ['Michael B. Jordan', 'Miles Teller'],\n",
       " ['Jamie Bell', 'Miles Teller'],\n",
       " ['Miles Teller', 'Toby Kebbell'],\n",
       " ['Kate Mara', 'Michael B. Jordan'],\n",
       " ['Jamie Bell', 'Kate Mara'],\n",
       " ['Kate Mara', 'Toby Kebbell'],\n",
       " ['Jamie Bell', 'Michael B. Jordan'],\n",
       " ['Michael B. Jordan', 'Toby Kebbell'],\n",
       " ['Jamie Bell', 'Toby Kebbell'],\n",
       " ['Jason Statham', 'Melissa McCarthy'],\n",
       " ['Melissa McCarthy', 'Rose Byrne'],\n",
       " ['Melissa McCarthy', 'Miranda Hart'],\n",
       " ['Bobby Cannavale', 'Melissa McCarthy'],\n",
       " ['Jason Statham', 'Rose Byrne'],\n",
       " ['Jason Statham', 'Miranda Hart'],\n",
       " ['Bobby Cannavale', 'Jason Statham'],\n",
       " ['Miranda Hart', 'Rose Byrne'],\n",
       " ['Bobby Cannavale', 'Rose Byrne'],\n",
       " ['Bobby Cannavale', 'Miranda Hart'],\n",
       " ['Margot Robbie', 'Will Smith'],\n",
       " ['Rodrigo Santoro', 'Will Smith'],\n",
       " ['Robert Taylor', 'Will Smith'],\n",
       " ['Gerald McRaney', 'Will Smith'],\n",
       " ['Margot Robbie', 'Rodrigo Santoro'],\n",
       " ['Margot Robbie', 'Robert Taylor'],\n",
       " ['Gerald McRaney', 'Margot Robbie'],\n",
       " ['Robert Taylor', 'Rodrigo Santoro'],\n",
       " ['Gerald McRaney', 'Rodrigo Santoro'],\n",
       " ['Gerald McRaney', 'Robert Taylor'],\n",
       " ['Rupert Friend', 'Zachary Quinto'],\n",
       " ['Hannah Ware', 'Rupert Friend'],\n",
       " ['Emilio Rivera', 'Rupert Friend'],\n",
       " ['Rolf Kanies', 'Rupert Friend'],\n",
       " ['Hannah Ware', 'Zachary Quinto'],\n",
       " ['Emilio Rivera', 'Zachary Quinto'],\n",
       " ['Rolf Kanies', 'Zachary Quinto'],\n",
       " ['Emilio Rivera', 'Hannah Ware'],\n",
       " ['Hannah Ware', 'Rolf Kanies'],\n",
       " ['Emilio Rivera', 'Rolf Kanies'],\n",
       " ['Benjamin Walker', 'Chris Hemsworth'],\n",
       " ['Chris Hemsworth', 'Cillian Murphy'],\n",
       " ['Brendan Gleeson', 'Chris Hemsworth'],\n",
       " ['Ben Whishaw', 'Chris Hemsworth'],\n",
       " ['Benjamin Walker', 'Cillian Murphy'],\n",
       " ['Benjamin Walker', 'Brendan Gleeson'],\n",
       " ['Ben Whishaw', 'Benjamin Walker'],\n",
       " ['Brendan Gleeson', 'Cillian Murphy'],\n",
       " ['Ben Whishaw', 'Cillian Murphy'],\n",
       " ['Ben Whishaw', 'Brendan Gleeson'],\n",
       " ['Michael B. Jordan', 'Sylvester Stallone'],\n",
       " ['Graham McTavish', 'Michael B. Jordan'],\n",
       " ['Michael B. Jordan', 'Tessa Thompson'],\n",
       " ['Michael B. Jordan', 'Phylicia RashÄd'],\n",
       " ['Graham McTavish', 'Sylvester Stallone'],\n",
       " ['Sylvester Stallone', 'Tessa Thompson'],\n",
       " ['Phylicia RashÄd', 'Sylvester Stallone'],\n",
       " ['Graham McTavish', 'Tessa Thompson'],\n",
       " ['Graham McTavish', 'Phylicia RashÄd'],\n",
       " ['Phylicia RashÄd', 'Tessa Thompson'],\n",
       " ['Amy Schumer', 'Bill Hader'],\n",
       " ['Amy Schumer', 'Brie Larson'],\n",
       " ['Amy Schumer', 'Colin Quinn'],\n",
       " ['Amy Schumer', 'Vanessa Bayer'],\n",
       " ['Bill Hader', 'Brie Larson'],\n",
       " ['Bill Hader', 'Colin Quinn'],\n",
       " ['Bill Hader', 'Vanessa Bayer'],\n",
       " ['Brie Larson', 'Colin Quinn'],\n",
       " ['Brie Larson', 'Vanessa Bayer'],\n",
       " ['Colin Quinn', 'Vanessa Bayer'],\n",
       " ['Aaron Paul', 'Helen Mirren'],\n",
       " ['Alan Rickman', 'Helen Mirren'],\n",
       " ['Helen Mirren', 'Iain Glen'],\n",
       " ['Barkhad Abdi', 'Helen Mirren'],\n",
       " ['Aaron Paul', 'Alan Rickman'],\n",
       " ['Aaron Paul', 'Iain Glen'],\n",
       " ['Aaron Paul', 'Barkhad Abdi'],\n",
       " ['Alan Rickman', 'Iain Glen'],\n",
       " ['Alan Rickman', 'Barkhad Abdi'],\n",
       " ['Barkhad Abdi', 'Iain Glen'],\n",
       " ['Emily Browning', 'Tom Hardy'],\n",
       " ['Christopher Eccleston', 'Tom Hardy'],\n",
       " ['David Thewlis', 'Tom Hardy'],\n",
       " ['Taron Egerton', 'Tom Hardy'],\n",
       " ['Christopher Eccleston', 'Emily Browning'],\n",
       " ['David Thewlis', 'Emily Browning'],\n",
       " ['Emily Browning', 'Taron Egerton'],\n",
       " ['Christopher Eccleston', 'David Thewlis'],\n",
       " ['Christopher Eccleston', 'Taron Egerton'],\n",
       " ['David Thewlis', 'Taron Egerton'],\n",
       " ['Garrett Hedlund', 'Levi Miller'],\n",
       " ['Hugh Jackman', 'Levi Miller'],\n",
       " ['Levi Miller', 'Rooney Mara'],\n",
       " ['Amanda Seyfried', 'Levi Miller'],\n",
       " ['Garrett Hedlund', 'Hugh Jackman'],\n",
       " ['Garrett Hedlund', 'Rooney Mara'],\n",
       " ['Amanda Seyfried', 'Garrett Hedlund'],\n",
       " ['Hugh Jackman', 'Rooney Mara'],\n",
       " ['Amanda Seyfried', 'Hugh Jackman'],\n",
       " ['Amanda Seyfried', 'Rooney Mara'],\n",
       " ['Bill Melendez', 'Noah Schnapp'],\n",
       " ['Noah Schnapp', 'Venus Schultheis'],\n",
       " ['Hadley Belle Miller', 'Noah Schnapp'],\n",
       " ['Madisyn Shipman', 'Noah Schnapp'],\n",
       " ['Bill Melendez', 'Venus Schultheis'],\n",
       " ['Bill Melendez', 'Hadley Belle Miller'],\n",
       " ['Bill Melendez', 'Madisyn Shipman'],\n",
       " ['Hadley Belle Miller', 'Venus Schultheis'],\n",
       " ['Madisyn Shipman', 'Venus Schultheis'],\n",
       " ['Hadley Belle Miller', 'Madisyn Shipman'],\n",
       " ['Bitsie Tulloch', 'Will Smith'],\n",
       " ['Gugu Mbatha-Raw', 'Will Smith'],\n",
       " ['Alec Baldwin', 'Will Smith'],\n",
       " ['Matthew Willig', 'Will Smith'],\n",
       " ['Bitsie Tulloch', 'Gugu Mbatha-Raw'],\n",
       " ['Alec Baldwin', 'Bitsie Tulloch'],\n",
       " ['Bitsie Tulloch', 'Matthew Willig'],\n",
       " ['Alec Baldwin', 'Gugu Mbatha-Raw'],\n",
       " ['Gugu Mbatha-Raw', 'Matthew Willig'],\n",
       " ['Alec Baldwin', 'Matthew Willig'],\n",
       " ['Joseph Gordon-Levitt', 'Seth Rogen'],\n",
       " ['Anthony Mackie', 'Joseph Gordon-Levitt'],\n",
       " ['Joseph Gordon-Levitt', 'Lizzy Caplan'],\n",
       " ['Jillian Bell', 'Joseph Gordon-Levitt'],\n",
       " ['Anthony Mackie', 'Seth Rogen'],\n",
       " ['Lizzy Caplan', 'Seth Rogen'],\n",
       " ['Jillian Bell', 'Seth Rogen'],\n",
       " ['Anthony Mackie', 'Lizzy Caplan'],\n",
       " ['Anthony Mackie', 'Jillian Bell'],\n",
       " ['Jillian Bell', 'Lizzy Caplan'],\n",
       " ['Britt Robertson', 'Scott Eastwood'],\n",
       " ['Lolita Davidovich', 'Scott Eastwood'],\n",
       " ['Melissa Benoist', 'Scott Eastwood'],\n",
       " ['Jack Huston', 'Scott Eastwood'],\n",
       " ['Britt Robertson', 'Lolita Davidovich'],\n",
       " ['Britt Robertson', 'Melissa Benoist'],\n",
       " ['Britt Robertson', 'Jack Huston'],\n",
       " ['Lolita Davidovich', 'Melissa Benoist'],\n",
       " ['Jack Huston', 'Lolita Davidovich'],\n",
       " ['Jack Huston', 'Melissa Benoist'],\n",
       " ['Adam Sandler', 'Andy Samberg'],\n",
       " ['Adam Sandler', 'Selena Gomez'],\n",
       " ['Adam Sandler', 'Kevin James'],\n",
       " ['Adam Sandler', 'Steve Buscemi'],\n",
       " ['Andy Samberg', 'Selena Gomez'],\n",
       " ['Andy Samberg', 'Kevin James'],\n",
       " ['Andy Samberg', 'Steve Buscemi'],\n",
       " ['Kevin James', 'Selena Gomez'],\n",
       " ['Selena Gomez', 'Steve Buscemi'],\n",
       " ['Kevin James', 'Steve Buscemi'],\n",
       " ['Diane Keaton', 'Steve Martin'],\n",
       " ['John Goodman', 'Steve Martin'],\n",
       " ['Alan Arkin', 'Steve Martin'],\n",
       " ['Olivia Wilde', 'Steve Martin'],\n",
       " ['Diane Keaton', 'John Goodman'],\n",
       " ['Alan Arkin', 'Diane Keaton'],\n",
       " ['Diane Keaton', 'Olivia Wilde'],\n",
       " ['Alan Arkin', 'John Goodman'],\n",
       " ['John Goodman', 'Olivia Wilde'],\n",
       " ['Alan Arkin', 'Olivia Wilde'],\n",
       " ['Ben Kingsley', 'Joseph Gordon-Levitt'],\n",
       " ['Charlotte Le Bon', 'Joseph Gordon-Levitt'],\n",
       " ['Ben Schwartz', 'Joseph Gordon-Levitt'],\n",
       " ['James Badge Dale', 'Joseph Gordon-Levitt'],\n",
       " ['Ben Kingsley', 'Charlotte Le Bon'],\n",
       " ['Ben Kingsley', 'Ben Schwartz'],\n",
       " ['Ben Kingsley', 'James Badge Dale'],\n",
       " ['Ben Schwartz', 'Charlotte Le Bon'],\n",
       " ['Charlotte Le Bon', 'James Badge Dale'],\n",
       " ['Ben Schwartz', 'James Badge Dale'],\n",
       " ['Christina Applegate', 'Ed Helms'],\n",
       " ['Ed Helms', 'Skyler Gisondo'],\n",
       " ['Ed Helms', 'Steele Stebbins'],\n",
       " ['Chris Hemsworth', 'Ed Helms'],\n",
       " ['Christina Applegate', 'Skyler Gisondo'],\n",
       " ['Christina Applegate', 'Steele Stebbins'],\n",
       " ['Chris Hemsworth', 'Christina Applegate'],\n",
       " ['Skyler Gisondo', 'Steele Stebbins'],\n",
       " ['Chris Hemsworth', 'Skyler Gisondo'],\n",
       " ['Chris Hemsworth', 'Steele Stebbins'],\n",
       " ['Rosemarie DeWitt', 'Sam Rockwell'],\n",
       " ['Sam Rockwell', 'Saxon Sharbino'],\n",
       " ['Kyle Catlett', 'Sam Rockwell'],\n",
       " ['Kennedi Clements', 'Sam Rockwell'],\n",
       " ['Rosemarie DeWitt', 'Saxon Sharbino'],\n",
       " ['Kyle Catlett', 'Rosemarie DeWitt'],\n",
       " ['Kennedi Clements', 'Rosemarie DeWitt'],\n",
       " ['Kyle Catlett', 'Saxon Sharbino'],\n",
       " ['Kennedi Clements', 'Saxon Sharbino'],\n",
       " ['Kennedi Clements', 'Kyle Catlett'],\n",
       " ['Gary Oldman', 'Tom Hardy'],\n",
       " ['Noomi Rapace', 'Tom Hardy'],\n",
       " ['Joel Kinnaman', 'Tom Hardy'],\n",
       " ['Paddy Considine', 'Tom Hardy'],\n",
       " ['Gary Oldman', 'Noomi Rapace'],\n",
       " ['Gary Oldman', 'Joel Kinnaman'],\n",
       " ['Gary Oldman', 'Paddy Considine'],\n",
       " ['Joel Kinnaman', 'Noomi Rapace'],\n",
       " ['Noomi Rapace', 'Paddy Considine'],\n",
       " ['Joel Kinnaman', 'Paddy Considine'],\n",
       " ['Jason Bateman', 'Rebecca Hall'],\n",
       " ['Jason Bateman', 'Joel Edgerton'],\n",
       " ['David Denman', 'Jason Bateman'],\n",
       " ['Beau Knapp', 'Jason Bateman'],\n",
       " ['Joel Edgerton', 'Rebecca Hall'],\n",
       " ['David Denman', 'Rebecca Hall'],\n",
       " ['Beau Knapp', 'Rebecca Hall'],\n",
       " ['David Denman', 'Joel Edgerton'],\n",
       " ['Beau Knapp', 'Joel Edgerton'],\n",
       " ['Beau Knapp', 'David Denman'],\n",
       " ['Mark Wahlberg', 'Will Ferrell'],\n",
       " ['Linda Cardellini', 'Will Ferrell'],\n",
       " ['Thomas Haden Church', 'Will Ferrell'],\n",
       " ['Hannibal Buress', 'Will Ferrell'],\n",
       " ['Linda Cardellini', 'Mark Wahlberg'],\n",
       " ['Mark Wahlberg', 'Thomas Haden Church'],\n",
       " ['Hannibal Buress', 'Mark Wahlberg'],\n",
       " ['Linda Cardellini', 'Thomas Haden Church'],\n",
       " ['Hannibal Buress', 'Linda Cardellini'],\n",
       " ['Hannibal Buress', 'Thomas Haden Church'],\n",
       " ['Jeff Bridges', 'Rachel McAdams'],\n",
       " ['Jeff Bridges', 'Paul Rudd'],\n",
       " ['Jeff Bridges', 'Marion Cotillard'],\n",
       " ['James Franco', 'Jeff Bridges'],\n",
       " ['Paul Rudd', 'Rachel McAdams'],\n",
       " ['Marion Cotillard', 'Rachel McAdams'],\n",
       " ['James Franco', 'Rachel McAdams'],\n",
       " ['Marion Cotillard', 'Paul Rudd'],\n",
       " ['James Franco', 'Paul Rudd'],\n",
       " ['James Franco', 'Marion Cotillard'],\n",
       " ['Kate Winslet', 'Liam Hemsworth'],\n",
       " ['Caroline Goodall', 'Kate Winslet'],\n",
       " ['Judy Davis', 'Kate Winslet'],\n",
       " ['Hayley Magnus', 'Kate Winslet'],\n",
       " ['Caroline Goodall', 'Liam Hemsworth'],\n",
       " ['Judy Davis', 'Liam Hemsworth'],\n",
       " ['Hayley Magnus', 'Liam Hemsworth'],\n",
       " ['Caroline Goodall', 'Judy Davis'],\n",
       " ['Caroline Goodall', 'Hayley Magnus'],\n",
       " ['Hayley Magnus', 'Judy Davis'],\n",
       " ['Mae Whitman', 'Robbie Amell'],\n",
       " ['Bella Thorne', 'Mae Whitman'],\n",
       " ['Bianca A. Santos', 'Mae Whitman'],\n",
       " ['Mae Whitman', 'Skyler Samuels'],\n",
       " ['Bella Thorne', 'Robbie Amell'],\n",
       " ['Bianca A. Santos', 'Robbie Amell'],\n",
       " ['Robbie Amell', 'Skyler Samuels'],\n",
       " ['Bella Thorne', 'Bianca A. Santos'],\n",
       " ['Bella Thorne', 'Skyler Samuels'],\n",
       " ['Bianca A. Santos', 'Skyler Samuels'],\n",
       " ['James Ransone', 'Shannyn Sossamon'],\n",
       " ['Shannyn Sossamon', 'Tate Ellington'],\n",
       " ['Nicholas King', 'Shannyn Sossamon'],\n",
       " ['Lucas Jade Zumann', 'Shannyn Sossamon'],\n",
       " ['James Ransone', 'Tate Ellington'],\n",
       " ['James Ransone', 'Nicholas King'],\n",
       " ['James Ransone', 'Lucas Jade Zumann'],\n",
       " ['Nicholas King', 'Tate Ellington'],\n",
       " ['Lucas Jade Zumann', 'Tate Ellington'],\n",
       " ['Lucas Jade Zumann', 'Nicholas King'],\n",
       " ['Kevin James', 'Raini Rodriguez'],\n",
       " ['Eduardo VerÃ¡stegui', 'Kevin James'],\n",
       " ['Daniella Alonso', 'Kevin James'],\n",
       " ['Kevin James', 'Neal McDonough'],\n",
       " ['Eduardo VerÃ¡stegui', 'Raini Rodriguez'],\n",
       " ['Daniella Alonso', 'Raini Rodriguez'],\n",
       " ['Neal McDonough', 'Raini Rodriguez'],\n",
       " ['Daniella Alonso', 'Eduardo VerÃ¡stegui'],\n",
       " ['Eduardo VerÃ¡stegui', 'Neal McDonough'],\n",
       " ['Daniella Alonso', 'Neal McDonough'],\n",
       " ['Adrian Grenier', 'Jeremy Piven'],\n",
       " ['Jeremy Piven', 'Jerry Ferrara'],\n",
       " ['Jeremy Piven', 'Kevin Connolly'],\n",
       " ['Jeremy Piven', 'Kevin Dillon'],\n",
       " ['Adrian Grenier', 'Jerry Ferrara'],\n",
       " ['Adrian Grenier', 'Kevin Connolly'],\n",
       " ['Adrian Grenier', 'Kevin Dillon'],\n",
       " ['Jerry Ferrara', 'Kevin Connolly'],\n",
       " ['Jerry Ferrara', 'Kevin Dillon'],\n",
       " ['Kevin Connolly', 'Kevin Dillon'],\n",
       " ['Josh Gad', 'Kevin Hart'],\n",
       " ['Kaley Cuoco', 'Kevin Hart'],\n",
       " ['Affion Crockett', 'Kevin Hart'],\n",
       " ['Jorge Garcia', 'Kevin Hart'],\n",
       " ['Josh Gad', 'Kaley Cuoco'],\n",
       " ['Affion Crockett', 'Josh Gad'],\n",
       " ['Jorge Garcia', 'Josh Gad'],\n",
       " ['Affion Crockett', 'Kaley Cuoco'],\n",
       " ['Jorge Garcia', 'Kaley Cuoco'],\n",
       " ['Affion Crockett', 'Jorge Garcia'],\n",
       " ['Ed Oxenbould', 'Olivia DeJonge'],\n",
       " ['Kathryn Hahn', 'Olivia DeJonge'],\n",
       " ['Benjamin Kanes', 'Olivia DeJonge'],\n",
       " ['Deanna Dunagan', 'Olivia DeJonge'],\n",
       " ['Ed Oxenbould', 'Kathryn Hahn'],\n",
       " ['Benjamin Kanes', 'Ed Oxenbould'],\n",
       " ['Deanna Dunagan', 'Ed Oxenbould'],\n",
       " ['Benjamin Kanes', 'Kathryn Hahn'],\n",
       " ['Deanna Dunagan', 'Kathryn Hahn'],\n",
       " ['Benjamin Kanes', 'Deanna Dunagan'],\n",
       " ['Joel Edgerton', 'Johnny Depp'],\n",
       " ['Benedict Cumberbatch', 'Johnny Depp'],\n",
       " ['Dakota Johnson', 'Johnny Depp'],\n",
       " ['Johnny Depp', 'Kevin Bacon'],\n",
       " ['Benedict Cumberbatch', 'Joel Edgerton'],\n",
       " ['Dakota Johnson', 'Joel Edgerton'],\n",
       " ['Joel Edgerton', 'Kevin Bacon'],\n",
       " ['Benedict Cumberbatch', 'Dakota Johnson'],\n",
       " ['Benedict Cumberbatch', 'Kevin Bacon'],\n",
       " ['Dakota Johnson', 'Kevin Bacon'],\n",
       " ['Adam Scott', 'Toni Collette'],\n",
       " ['Adam Scott', 'Allison Tolman'],\n",
       " ['Adam Scott', 'David Koechner'],\n",
       " ['Adam Scott', 'Emjay Anthony'],\n",
       " ['Allison Tolman', 'Toni Collette'],\n",
       " ['David Koechner', 'Toni Collette'],\n",
       " ['Emjay Anthony', 'Toni Collette'],\n",
       " ['Allison Tolman', 'David Koechner'],\n",
       " ['Allison Tolman', 'Emjay Anthony'],\n",
       " ['David Koechner', 'Emjay Anthony'],\n",
       " ['Lake Bell', 'Owen Wilson'],\n",
       " ['Owen Wilson', 'Pierce Brosnan'],\n",
       " ['Owen Wilson', 'Sterling Jerins'],\n",
       " ['Owen Wilson', 'Spencer Garrett'],\n",
       " ['Lake Bell', 'Pierce Brosnan'],\n",
       " ['Lake Bell', 'Sterling Jerins'],\n",
       " ['Lake Bell', 'Spencer Garrett'],\n",
       " ['Pierce Brosnan', 'Sterling Jerins'],\n",
       " ['Pierce Brosnan', 'Spencer Garrett'],\n",
       " ['Spencer Garrett', 'Sterling Jerins'],\n",
       " ['Helen Mirren', 'Ryan Reynolds'],\n",
       " ['Helen Mirren', 'Tatiana Maslany'],\n",
       " ['Helen Mirren', 'Katie Holmes'],\n",
       " ['Helen Mirren', 'Max Irons'],\n",
       " ['Ryan Reynolds', 'Tatiana Maslany'],\n",
       " ['Katie Holmes', 'Ryan Reynolds'],\n",
       " ['Max Irons', 'Ryan Reynolds'],\n",
       " ['Katie Holmes', 'Tatiana Maslany'],\n",
       " ['Max Irons', 'Tatiana Maslany'],\n",
       " ['Katie Holmes', 'Max Irons'],\n",
       " ['Amy Poehler', 'Tina Fey'],\n",
       " ['John Leguizamo', 'Tina Fey'],\n",
       " ['Ike Barinholtz', 'Tina Fey'],\n",
       " ['Maya Rudolph', 'Tina Fey'],\n",
       " ['Amy Poehler', 'John Leguizamo'],\n",
       " ['Amy Poehler', 'Ike Barinholtz'],\n",
       " ['Amy Poehler', 'Maya Rudolph'],\n",
       " ['Ike Barinholtz', 'John Leguizamo'],\n",
       " ['John Leguizamo', 'Maya Rudolph'],\n",
       " ['Ike Barinholtz', 'Maya Rudolph'],\n",
       " ['Jonny Weston', 'Virginia Gardner'],\n",
       " ['Jonny Weston', \"Sofia Black-D'Elia\"],\n",
       " ['Jonny Weston', 'Sam Lerner'],\n",
       " ['Allen Evangelista', 'Jonny Weston'],\n",
       " [\"Sofia Black-D'Elia\", 'Virginia Gardner'],\n",
       " ['Sam Lerner', 'Virginia Gardner'],\n",
       " ['Allen Evangelista', 'Virginia Gardner'],\n",
       " ['Sam Lerner', \"Sofia Black-D'Elia\"],\n",
       " ['Allen Evangelista', \"Sofia Black-D'Elia\"],\n",
       " ['Allen Evangelista', 'Sam Lerner'],\n",
       " ['Ed Skrein', 'Ray Stevenson'],\n",
       " ['Ed Skrein', 'Loan Chabanol'],\n",
       " ['Ed Skrein', 'Gabriella Wright'],\n",
       " ['Ed Skrein', 'Tatjana PajkoviÄ‡'],\n",
       " ['Loan Chabanol', 'Ray Stevenson'],\n",
       " ['Gabriella Wright', 'Ray Stevenson'],\n",
       " ['Ray Stevenson', 'Tatjana PajkoviÄ‡'],\n",
       " ['Gabriella Wright', 'Loan Chabanol'],\n",
       " ['Loan Chabanol', 'Tatjana PajkoviÄ‡'],\n",
       " ['Gabriella Wright', 'Tatjana PajkoviÄ‡'],\n",
       " ['Jessica Chastain', 'Mia Wasikowska'],\n",
       " ['Mia Wasikowska', 'Tom Hiddleston'],\n",
       " ['Charlie Hunnam', 'Mia Wasikowska'],\n",
       " ['Jim Beaver', 'Mia Wasikowska'],\n",
       " ['Jessica Chastain', 'Tom Hiddleston'],\n",
       " ['Charlie Hunnam', 'Jessica Chastain'],\n",
       " ['Jessica Chastain', 'Jim Beaver'],\n",
       " ['Charlie Hunnam', 'Tom Hiddleston'],\n",
       " ['Jim Beaver', 'Tom Hiddleston'],\n",
       " ['Charlie Hunnam', 'Jim Beaver'],\n",
       " ['Channing Tatum', 'Matt Bomer'],\n",
       " ['Channing Tatum', 'Joe Manganiello'],\n",
       " ['Channing Tatum', 'Kevin Nash'],\n",
       " ['Adam RodrÃ\\xadguez', 'Channing Tatum'],\n",
       " ['Joe Manganiello', 'Matt Bomer'],\n",
       " ['Kevin Nash', 'Matt Bomer'],\n",
       " ['Adam RodrÃ\\xadguez', 'Matt Bomer'],\n",
       " ['Joe Manganiello', 'Kevin Nash'],\n",
       " ['Adam RodrÃ\\xadguez', 'Joe Manganiello'],\n",
       " ['Adam RodrÃ\\xadguez', 'Kevin Nash'],\n",
       " ['Brit Shaw', 'Chris J. Murray'],\n",
       " ['Chris J. Murray', 'Ivy George'],\n",
       " ['Chris J. Murray', 'Lauren Frandsen'],\n",
       " ['Chris J. Murray', 'Tyler Craig'],\n",
       " ['Brit Shaw', 'Ivy George'],\n",
       " ['Brit Shaw', 'Lauren Frandsen'],\n",
       " ['Brit Shaw', 'Tyler Craig'],\n",
       " ['Ivy George', 'Lauren Frandsen'],\n",
       " ['Ivy George', 'Tyler Craig'],\n",
       " ['Lauren Frandsen', 'Tyler Craig'],\n",
       " ['Bryan Cranston', 'Diane Lane'],\n",
       " ['Bryan Cranston', 'Helen Mirren'],\n",
       " ['Bryan Cranston', 'Elle Fanning'],\n",
       " ['Bryan Cranston', 'Louis C.K.'],\n",
       " ['Diane Lane', 'Helen Mirren'],\n",
       " ['Diane Lane', 'Elle Fanning'],\n",
       " ['Diane Lane', 'Louis C.K.'],\n",
       " ['Elle Fanning', 'Helen Mirren'],\n",
       " ['Helen Mirren', 'Louis C.K.'],\n",
       " ['Elle Fanning', 'Louis C.K.'],\n",
       " ['Chiwetel Ejiofor', 'Nicole Kidman'],\n",
       " ['Chiwetel Ejiofor', 'Julia Roberts'],\n",
       " ['Chiwetel Ejiofor', 'Dean Norris'],\n",
       " ['Chiwetel Ejiofor', 'Lyndon Smith'],\n",
       " ['Julia Roberts', 'Nicole Kidman'],\n",
       " ['Dean Norris', 'Nicole Kidman'],\n",
       " ['Lyndon Smith', 'Nicole Kidman'],\n",
       " ['Dean Norris', 'Julia Roberts'],\n",
       " ['Julia Roberts', 'Lyndon Smith'],\n",
       " ['Dean Norris', 'Lyndon Smith'],\n",
       " ['Bill Fagerbakke', 'Tom Kenny'],\n",
       " ['Rodger Bumpass', 'Tom Kenny'],\n",
       " ['Clancy Brown', 'Tom Kenny'],\n",
       " ['Carolyn Lawrence', 'Tom Kenny'],\n",
       " ['Bill Fagerbakke', 'Rodger Bumpass'],\n",
       " ['Bill Fagerbakke', 'Clancy Brown'],\n",
       " ['Bill Fagerbakke', 'Carolyn Lawrence'],\n",
       " ['Clancy Brown', 'Rodger Bumpass'],\n",
       " ['Carolyn Lawrence', 'Rodger Bumpass'],\n",
       " ['Carolyn Lawrence', 'Clancy Brown'],\n",
       " ['Josh Wiggins', 'Thomas Haden Church'],\n",
       " ['Lauren Graham', 'Thomas Haden Church'],\n",
       " ['Robbie Amell', 'Thomas Haden Church'],\n",
       " ['Mia Xitlali', 'Thomas Haden Church'],\n",
       " ['Josh Wiggins', 'Lauren Graham'],\n",
       " ['Josh Wiggins', 'Robbie Amell'],\n",
       " ['Josh Wiggins', 'Mia Xitlali'],\n",
       " ['Lauren Graham', 'Robbie Amell'],\n",
       " ['Lauren Graham', 'Mia Xitlali'],\n",
       " ['Mia Xitlali', 'Robbie Amell'],\n",
       " ['Jasmine Trinca', 'Sean Penn'],\n",
       " ['Javier Bardem', 'Sean Penn'],\n",
       " ['Ray Winstone', 'Sean Penn'],\n",
       " ['Mark Rylance', 'Sean Penn'],\n",
       " ['Jasmine Trinca', 'Javier Bardem'],\n",
       " ['Jasmine Trinca', 'Ray Winstone'],\n",
       " ['Jasmine Trinca', 'Mark Rylance'],\n",
       " ['Javier Bardem', 'Ray Winstone'],\n",
       " ['Javier Bardem', 'Mark Rylance'],\n",
       " ['Mark Rylance', 'Ray Winstone'],\n",
       " ...]"
      ]
     },
     "metadata": {},
     "output_type": "display_data"
    }
   ],
   "source": [
    "pairs=[]\n",
    "for i in range(len(data)):\n",
    "    cast_new=data.loc[i,'cast'].split('|')\n",
    "    for j in range(len(cast_new)-1):\n",
    "        for k in range(j+1,len(cast_new)):\n",
    "            pairs.append(sorted([cast_new[j],cast_new[k]]))\n",
    "display(pairs)\n"
   ]
  },
  {
   "cell_type": "code",
   "execution_count": 26,
   "metadata": {},
   "outputs": [
    {
     "data": {
      "text/plain": [
       "8"
      ]
     },
     "execution_count": 26,
     "metadata": {},
     "output_type": "execute_result"
    }
   ],
   "source": [
    "pairs.count(['Daniel Radcliffe', 'Rupert Grint'])"
   ]
  }
 ],
 "metadata": {
  "colab": {
   "name": "Copy of [SF-DST] Movies IMBD v4.1 TEMPLATE.ipynb",
   "provenance": []
  },
  "kernelspec": {
   "display_name": "Python 3",
   "language": "python",
   "name": "python3"
  },
  "language_info": {
   "codemirror_mode": {
    "name": "ipython",
    "version": 3
   },
   "file_extension": ".py",
   "mimetype": "text/x-python",
   "name": "python",
   "nbconvert_exporter": "python",
   "pygments_lexer": "ipython3",
   "version": "3.8.3"
  }
 },
 "nbformat": 4,
 "nbformat_minor": 1
}
